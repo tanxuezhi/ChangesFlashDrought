{
 "cells": [
  {
   "cell_type": "markdown",
   "metadata": {},
   "source": [
    "处理骤旱结果"
   ]
  },
  {
   "cell_type": "markdown",
   "metadata": {},
   "source": [
    "1.计算骤旱频率变化============================="
   ]
  },
  {
   "cell_type": "code",
   "execution_count": 15,
   "metadata": {},
   "outputs": [],
   "source": [
    "area_change=function(file_name,lonlat_name,save_name){\n",
    "load(file_name)\n",
    "load(lonlat_name)\n",
    "year=1981:2020\n",
    "occ_fre = colSums(occ_number, na.rm = T)    #骤旱的持续时间\n",
    "#to_raster(occ_dur  ,  filename = \"occ_dur_Christian\")\n",
    "occ_fre <- data.frame(year,occ_fre)\n",
    "#计算年际变化率\n",
    "change_fun <- function(i,data){\n",
    "  x=data[i,2]\n",
    "  y=data[i+1,2]\n",
    "  z=((y-x)*100)/x\n",
    "  return(z)\n",
    "}\n",
    "change_data <- NULL\n",
    "for(i in 1:39){\n",
    "  change_data[i+1]<- change_fun(i,occ_fre)\n",
    "  #print(paste0(\"OK_\",i))\n",
    "}\n",
    "occ_fre$change <- change_data\n",
    "colnames(occ_fre) <- c(\"year\",\"fre\",\"change\") \n",
    "save(occ_fre,file = save_name)\n",
    "return(occ_fre)\n",
    "}\n"
   ]
  },
  {
   "cell_type": "code",
   "execution_count": null,
   "metadata": {},
   "outputs": [],
   "source": [
    "#ERA5-LAND-0.5\n",
    "file_name = \"E:\\\\NO.1 flash drought\\\\03data\\\\ERA5\\\\1.result\\\\fd_characteristics_detrend.RData\"\n",
    "lonlat_name=\"E:\\\\NO.1 flash drought\\\\03data\\\\ERA5\\\\1.result\\\\grid_lon_lat.RData\"\n",
    "save_name=\"E:\\\\NO.1 flash drought\\\\03data\\\\ERA5\\\\1.result\\\\occ_fre.RData\"\n",
    "\n",
    "#GLEAM-0.25\n",
    "file_name2=\"E:\\\\NO.1 flash drought\\\\03data\\\\gleam_v3.5a\\\\fd_result6\\\\fd_characteristics_detrend.RData\"\n",
    "lonlat_name2=\"E:\\\\NO.1 flash drought\\\\03data\\\\gleam_v3.5a\\\\grid_lon_lat.RData\"\n",
    "save_name2=\"E:\\\\NO.1 flash drought\\\\03data\\\\gleam_v3.5a\\\\fd_result6\\\\occ_fre.RData\"\n",
    "\n",
    "#GLEAM-0.5\n",
    "file_name3=\"E:\\\\NO.1 flash drought\\\\03data\\\\gleam_v3.5a\\\\6.GLEAM-0.5\\\\fd_characteristics_detrend.RData\"\n",
    "lonlat_name3=\"E:\\\\NO.1 flash drought\\\\03data\\\\ERA5\\\\1.result\\\\grid_lon_lat.RData\"\n",
    "save_name3=\"E:\\\\NO.1 flash drought\\\\03data\\\\gleam_v3.5a\\\\6.GLEAM-0.5\\\\occ_fre.RData\"\n",
    "\n",
    "#ERA5-0.5\n",
    "file_name4=\"E:\\\\NO.1 flash drought\\\\03data\\\\ERA5\\\\2.fd_result\\\\fd_characteristics_detrend.RData\"\n",
    "lonlat_name4=\"E:\\\\NO.1 flash drought\\\\03data\\\\ERA5\\\\1.result\\\\grid_lon_lat.RData\"\n",
    "save_name4=\"E:\\\\NO.1 flash drought\\\\03data\\\\ERA5\\\\2.fd_result\\\\occ_fre.RData\"\n",
    "\n",
    "#GEE5\n",
    "file_name5=\"E:\\\\NO.1 flash drought\\\\03data\\\\data_GEE5\\\\fd_characteristics_detrend.RData\"\n",
    "lonlat_name5=\"E:\\\\NO.1 flash drought\\\\03data\\\\ERA5\\\\1.result\\\\grid_lon_lat.RData\"\n",
    "save_name5=\"E:\\\\NO.1 flash drought\\\\03data\\\\data_GEE5\\\\occ_fre.RData\"\n",
    "\n",
    "#area_change(file_name,lonlat_name,save_name)\n",
    "#area_change(file_name2,lonlat_name2,save_name2)(年数不同)\n",
    "area_change(file_name5,lonlat_name5,save_name5)\n"
   ]
  },
  {
   "cell_type": "code",
   "execution_count": null,
   "metadata": {},
   "outputs": [],
   "source": [
    "#GLEAM-0.25\n",
    "file_name=\"H:\\\\NO.1 flash drought\\\\03data\\\\gleam_v3.5a\\\\fd_result6\\\\fd_characteristics_detrend.RData\"\n",
    "lonlat_name=\"H:\\\\NO.1 flash drought\\\\03data\\\\gleam_v3.5a\\\\grid_lon_lat.RData\"\n",
    "save_name=\"H:\\\\NO.1 flash drought\\\\03data\\\\gleam_v3.5a\\\\fd_result6\\\\occ_fre.RData\"\n",
    "\n",
    "area_change=function(file_name,lonlat_name,save_name){\n",
    "  load(file_name)\n",
    "  load(lonlat_name)\n",
    "  year=1980:2020\n",
    "  occ_fre = colSums(occ_number, na.rm = T)    #骤旱的持续时间\n",
    "  #to_raster(occ_dur  ,  filename = \"occ_dur_Christian\")\n",
    "  occ_fre <- data.frame(year,occ_fre)\n",
    "  #计算年际变化率\n",
    "  change_fun <- function(i,data){\n",
    "    x=data[i,2]\n",
    "    y=data[i+1,2]\n",
    "    z=((y-x)*100)/x\n",
    "    return(z)\n",
    "  }\n",
    "  change_data <- NULL\n",
    "  for(i in 1:40){\n",
    "    change_data[i+1]<- change_fun(i,occ_fre)\n",
    "    #print(paste0(\"OK_\",i))\n",
    "  }\n",
    "  occ_fre$change <- change_data\n",
    "  colnames(occ_fre) <- c(\"year\",\"fre\",\"change\") \n",
    "  save(occ_fre,file = save_name)\n",
    "  return(occ_fre)\n",
    "}"
   ]
  },
  {
   "cell_type": "markdown",
   "metadata": {},
   "source": [
    "1.1计算分区频率变化"
   ]
  },
  {
   "cell_type": "code",
   "execution_count": 1,
   "metadata": {},
   "outputs": [],
   "source": [
    "#load(\"H:\\\\NO.1 flash drought\\\\03data\\\\data_GEE5\\\\fd_characteristics_detrend.RData\")\n",
    "load(\"H:\\\\NO.1 flash drought\\\\03data\\\\gleam_v3.5a\\\\fd_result6\\\\fd_characteristics_detrend.RData\")\n",
    "#load(\"H:\\\\NO.1 flash drought\\\\03data\\\\gleam_v3.5a\\\\6.GLEAM-0.5\\\\fd_characteristics_detrend.RData\")\n",
    "#load(\"H:\\\\NO.1 flash drought\\\\03data\\\\ERA5\\\\2.fd_result\\\\fd_characteristics_detrend.RData\")\n",
    "#load(\"H:\\\\NO.1 flash drought\\\\03data\\\\ERA5\\\\1.result\\\\fd_characteristics_detrend.RData\")\n",
    "#load(\"H:\\\\NO.1 flash drought\\\\03data\\\\ERA5\\\\1.result\\\\grid_lon_lat.RData\")\n",
    "load(\"H:\\\\NO.1 flash drought\\\\03data\\\\gleam_v3.5a\\\\grid_lon_lat.RData\")\n",
    "year=1981:2020\n",
    " data <- data.frame(grid2,occ_number)\n",
    " #ymin=31.5;ymax =41.5 ;xmin =-123.9 ;xmax =-96.1 \n",
    " \n",
    "frequency_change=function(xmin,xmax,ymin,ymax,j){\n",
    "  data1 <- data[data$lon>(xmin) & data$lon<(xmax) & data$lat>(ymin) & data$lat<(ymax),c(-2:-1)]\n",
    "  occ_fre = colSums(data1, na.rm = T)    #骤旱的持续时间\n",
    "  #to_raster(occ_dur  ,  filename = \"occ_dur_Christian\")\n",
    "  occ_fre <- data.frame(year,occ_fre)\n",
    "  #计算年际变化率\n",
    "  change_fun <- function(i,data){\n",
    "    x=data[i,2]\n",
    "    y=data[i+1,2]\n",
    "    z=((y-x)*100)/x\n",
    "    return(z)\n",
    "  }\n",
    "  change_data <- NULL\n",
    "  for(i in 1:39){\n",
    "    change_data[i+1]<- change_fun(i,occ_fre)\n",
    "    #print(paste0(\"OK_\",i))\n",
    "  }\n",
    "  occ_fre$change <- change_data\n",
    "  colnames(occ_fre) <- c(\"year\",\"fre\",\"change\") \n",
    "  #save(occ_fre,file = paste0(\"H:\\\\NO.1 flash drought\\\\03data\\\\data_GEE5\\\\occ_fre\",j,\".RData\"))\n",
    "  #save(occ_fre,file = paste0(\"H:\\\\NO.1 flash drought\\\\03data\\\\gleam_v3.5a\\\\6.GLEAM-0.5\\\\occ_fre\",j,\".RData\"))\n",
    "  #save(occ_fre,file = paste0(\"H:\\\\NO.1 flash drought\\\\03data\\\\ERA5\\\\1.result\\\\occ_fre\",j,\".RData\"))\n",
    "  save(occ_fre,file = paste0(\"H:\\\\NO.1 flash drought\\\\03data\\\\gleam_v3.5a\\\\fd_result6\\\\occ_fre\",j,\".RData\"))\n",
    "  return(j)\n",
    "}\n"
   ]
  },
  {
   "cell_type": "code",
   "execution_count": 2,
   "metadata": {},
   "outputs": [
    {
     "ename": "ERROR",
     "evalue": "Error in data.frame(year, occ_fre): 参数值意味着不同的行数: 40, 41\n",
     "output_type": "error",
     "traceback": [
      "Error in data.frame(year, occ_fre): 参数值意味着不同的行数: 40, 41\nTraceback:\n",
      "1. frequency_change(ymin = 31.5, ymax = 41.5, xmin = -123.9, xmax = -96.1, \n .     1)",
      "2. data.frame(year, occ_fre)   # at line 16 of file <text>",
      "3. stop(gettextf(\"arguments imply differing number of rows: %s\", \n .     paste(unique(nrows), collapse = \", \")), domain = NA)"
     ]
    }
   ],
   "source": [
    "frequency_change(ymin=31.5,ymax =41.5 ,xmin =-123.9 ,xmax =-96.1 ,1)\n",
    "frequency_change(ymin=16.7,ymax =26 ,xmin =-106.5 ,xmax =-96.5 ,2)\n",
    "frequency_change(ymin=-22.4,ymax =-3.8 ,xmin =-48 ,xmax =-34.9 ,3)\n",
    "frequency_change(ymin=-30.1,ymax =-13.9 ,xmin =-75.2 ,xmax =-65.5 ,4)\n",
    "frequency_change(ymin=36.1,ymax =44.6 ,xmin =-8.6 ,xmax =-0.8 ,5)\n",
    "frequency_change(ymin=17.5,ymax =34.5 ,xmin =-17.2 ,xmax =32.7 ,6)\n",
    "frequency_change(ymin=-7.6,ymax =10.8 ,xmin =30.5 ,xmax =42.1 ,7)\n",
    "frequency_change(ymin=-20.5,ymax =-13.8 ,xmin =11.6 ,xmax =35.9 ,8)\n",
    "frequency_change(ymin=12.3,ymax =37.1 ,xmin =36 ,xmax =68.1 ,9)\n",
    "frequency_change(ymin=27.5,ymax =40.7 ,xmin =77.4 ,xmax =101 ,10)\n",
    "frequency_change(ymin=6.5,ymax =26.1 ,xmin =71.7 ,xmax =88.1 ,11)\n",
    "frequency_change(ymin=-19.3,ymax =-10.8 ,xmin =127.3 ,xmax =145.5 ,12)"
   ]
  },
  {
   "cell_type": "markdown",
   "metadata": {},
   "source": [
    "1.2 计算分区频率变化（综合结果)"
   ]
  },
  {
   "cell_type": "code",
   "execution_count": null,
   "metadata": {},
   "outputs": [],
   "source": [
    "load(file = paste0(\"H:\\\\NO.1 flash drought\\\\03data\\\\gleam_v3.5a\\\\6.GLEAM-0.5\\\\occ_fre\",1,\".RData\"))\n",
    "occ_fre\n",
    "  aa=occ_fre[,3]\n",
    "  aa"
   ]
  },
  {
   "cell_type": "code",
   "execution_count": 32,
   "metadata": {},
   "outputs": [
    {
     "data": {
      "text/html": [
       "<style>\n",
       ".list-inline {list-style: none; margin:0; padding: 0}\n",
       ".list-inline>li {display: inline-block}\n",
       ".list-inline>li:not(:last-child)::after {content: \"\\00b7\"; padding: 0 .5ex}\n",
       "</style>\n",
       "<ol class=list-inline><li>1</li><li>2</li><li>3</li><li>4</li><li>5</li><li>6</li><li>7</li><li>8</li><li>9</li><li>10</li><li>11</li><li>12</li></ol>\n"
      ],
      "text/latex": [
       "\\begin{enumerate*}\n",
       "\\item 1\n",
       "\\item 2\n",
       "\\item 3\n",
       "\\item 4\n",
       "\\item 5\n",
       "\\item 6\n",
       "\\item 7\n",
       "\\item 8\n",
       "\\item 9\n",
       "\\item 10\n",
       "\\item 11\n",
       "\\item 12\n",
       "\\end{enumerate*}\n"
      ],
      "text/markdown": [
       "1. 1\n",
       "2. 2\n",
       "3. 3\n",
       "4. 4\n",
       "5. 5\n",
       "6. 6\n",
       "7. 7\n",
       "8. 8\n",
       "9. 9\n",
       "10. 10\n",
       "11. 11\n",
       "12. 12\n",
       "\n",
       "\n"
      ],
      "text/plain": [
       " [1]  1  2  3  4  5  6  7  8  9 10 11 12"
      ]
     },
     "metadata": {},
     "output_type": "display_data"
    }
   ],
   "source": [
    "#统计年变化   \n",
    "fun=function(j){\n",
    "  #load(file = paste0(\"H:\\\\NO.1 flash drought\\\\03data\\\\data_GEE5\\\\occ_area_acount\",j,\".RData\"))\n",
    "  load(file = paste0(\"H:\\\\NO.1 flash drought\\\\03data\\\\gleam_v3.5a\\\\6.GLEAM-0.5\\\\occ_fre\",j,\".RData\"))\n",
    "  aa=occ_fre[,3]\n",
    "  load(file = paste0(\"H:\\\\NO.1 flash drought\\\\03data\\\\ERA5\\\\2.fd_result\\\\occ_fre\",j,\".RData\"))\n",
    "  bb=occ_fre[,3]\n",
    "  load(file = paste0(\"H:\\\\NO.1 flash drought\\\\03data\\\\ERA5\\\\1.result\\\\occ_fre\",j,\".RData\"))\n",
    "  cc=occ_fre[,3]\n",
    "\n",
    "load(file=\"H:\\\\NO.1 flash drought\\\\03data\\\\ERA5\\\\1.result\\\\grid_lon_lat.RData\")\n",
    "\n",
    "fd_data <- data.frame(aa,bb,cc)\n",
    "fd_data$MEAN <- apply(fd_data,1,mean,na.rm=T)\n",
    "fd_data$SD <- apply(fd_data[,1:3],1,sd,na.rm=T)\n",
    "fd_data$CV <- (fd_data$SD/fd_data$MEAN)\n",
    "\n",
    "save(fd_data,file = paste0(\"H:\\\\NO.1 flash drought\\\\03data\\\\data_GEE5\\\\occ_fre\\\\occ_fre_sd_cv\",j,\".RData\"))\n",
    "return(j)\n",
    "}\n",
    "sapply(1:12,fun)"
   ]
  },
  {
   "cell_type": "code",
   "execution_count": 35,
   "metadata": {},
   "outputs": [
    {
     "data": {
      "text/html": [
       "<style>\n",
       ".list-inline {list-style: none; margin:0; padding: 0}\n",
       ".list-inline>li {display: inline-block}\n",
       ".list-inline>li:not(:last-child)::after {content: \"\\00b7\"; padding: 0 .5ex}\n",
       "</style>\n",
       "<ol class=list-inline><li>1</li><li>2</li><li>3</li><li>4</li><li>5</li><li>6</li><li>7</li><li>8</li><li>9</li><li>10</li><li>11</li><li>12</li></ol>\n"
      ],
      "text/latex": [
       "\\begin{enumerate*}\n",
       "\\item 1\n",
       "\\item 2\n",
       "\\item 3\n",
       "\\item 4\n",
       "\\item 5\n",
       "\\item 6\n",
       "\\item 7\n",
       "\\item 8\n",
       "\\item 9\n",
       "\\item 10\n",
       "\\item 11\n",
       "\\item 12\n",
       "\\end{enumerate*}\n"
      ],
      "text/markdown": [
       "1. 1\n",
       "2. 2\n",
       "3. 3\n",
       "4. 4\n",
       "5. 5\n",
       "6. 6\n",
       "7. 7\n",
       "8. 8\n",
       "9. 9\n",
       "10. 10\n",
       "11. 11\n",
       "12. 12\n",
       "\n",
       "\n"
      ],
      "text/plain": [
       " [1]  1  2  3  4  5  6  7  8  9 10 11 12"
      ]
     },
     "metadata": {},
     "output_type": "display_data"
    }
   ],
   "source": [
    "#统计年频率   \n",
    "fun=function(j){\n",
    "  #load(file = paste0(\"H:\\\\NO.1 flash drought\\\\03data\\\\data_GEE5\\\\occ_area_acount\",j,\".RData\"))\n",
    "  load(file = paste0(\"H:\\\\NO.1 flash drought\\\\03data\\\\gleam_v3.5a\\\\6.GLEAM-0.5\\\\occ_fre\",j,\".RData\"))\n",
    "  aa=occ_fre[,2]\n",
    "  load(file = paste0(\"H:\\\\NO.1 flash drought\\\\03data\\\\ERA5\\\\2.fd_result\\\\occ_fre\",j,\".RData\"))\n",
    "  bb=occ_fre[,2]\n",
    "  load(file = paste0(\"H:\\\\NO.1 flash drought\\\\03data\\\\ERA5\\\\1.result\\\\occ_fre\",j,\".RData\"))\n",
    "  cc=occ_fre[,2]\n",
    "\n",
    "load(file=\"H:\\\\NO.1 flash drought\\\\03data\\\\ERA5\\\\1.result\\\\grid_lon_lat.RData\")\n",
    "\n",
    "fd_data <- data.frame(aa,bb,cc)\n",
    "fd_data$MEAN <- apply(fd_data,1,mean,na.rm=T)\n",
    "fd_data$SD <- apply(fd_data[,1:3],1,sd,na.rm=T)\n",
    "fd_data$CV <- (fd_data$SD/fd_data$MEAN)\n",
    "\n",
    "save(fd_data,file = paste0(\"H:\\\\NO.1 flash drought\\\\03data\\\\data_GEE5\\\\occ_fre\\\\occ_fre_sd_cv_2_\",j,\".RData\"))\n",
    "return(j)\n",
    "}\n",
    "sapply(1:12,fun)"
   ]
  },
  {
   "cell_type": "markdown",
   "metadata": {},
   "source": [
    "1.3计算全球（综合结果）"
   ]
  },
  {
   "cell_type": "code",
   "execution_count": 36,
   "metadata": {},
   "outputs": [],
   "source": [
    "#统计年变化   \n",
    "#fun=function(j){\n",
    "  #load(file = paste0(\"H:\\\\NO.1 flash drought\\\\03data\\\\data_GEE5\\\\occ_area_acount\",j,\".RData\"))\n",
    "  load(file = paste0(\"H:\\\\NO.1 flash drought\\\\03data\\\\gleam_v3.5a\\\\6.GLEAM-0.5\\\\occ_fre\",\".RData\"))\n",
    "  aa=occ_fre[,3]\n",
    "  load(file = paste0(\"H:\\\\NO.1 flash drought\\\\03data\\\\ERA5\\\\2.fd_result\\\\occ_fre\",\".RData\"))\n",
    "  bb=occ_fre[,3]\n",
    "  load(file = paste0(\"H:\\\\NO.1 flash drought\\\\03data\\\\ERA5\\\\1.result\\\\occ_fre\",\".RData\"))\n",
    "  cc=occ_fre[,3]\n",
    "\n",
    "load(file=\"H:\\\\NO.1 flash drought\\\\03data\\\\ERA5\\\\1.result\\\\grid_lon_lat.RData\")\n",
    "\n",
    "fd_data <- data.frame(aa,bb,cc)\n",
    "fd_data$MEAN <- apply(fd_data,1,mean,na.rm=T)\n",
    "fd_data$SD <- apply(fd_data[,1:3],1,sd,na.rm=T)\n",
    "fd_data$CV <- (fd_data$SD/fd_data$MEAN)\n",
    "\n",
    "save(fd_data,file = paste0(\"H:\\\\NO.1 flash drought\\\\03data\\\\data_GEE5\\\\occ_fre\\\\occ_fre_sd_cv\",\".RData\"))\n",
    "# return(j)\n",
    "# }\n",
    "# sapply(1:12,fun)"
   ]
  },
  {
   "cell_type": "code",
   "execution_count": 37,
   "metadata": {},
   "outputs": [],
   "source": [
    "#统计年频率   \n",
    "#fun=function(j){\n",
    "  #load(file = paste0(\"H:\\\\NO.1 flash drought\\\\03data\\\\data_GEE5\\\\occ_area_acount\",j,\".RData\"))\n",
    "  load(file = paste0(\"H:\\\\NO.1 flash drought\\\\03data\\\\gleam_v3.5a\\\\6.GLEAM-0.5\\\\occ_fre\",\".RData\"))\n",
    "  aa=occ_fre[,2]\n",
    "  load(file = paste0(\"H:\\\\NO.1 flash drought\\\\03data\\\\ERA5\\\\2.fd_result\\\\occ_fre\",\".RData\"))\n",
    "  bb=occ_fre[,2]\n",
    "  load(file = paste0(\"H:\\\\NO.1 flash drought\\\\03data\\\\ERA5\\\\1.result\\\\occ_fre\",\".RData\"))\n",
    "  cc=occ_fre[,2]\n",
    "\n",
    "load(file=\"H:\\\\NO.1 flash drought\\\\03data\\\\ERA5\\\\1.result\\\\grid_lon_lat.RData\")\n",
    "\n",
    "fd_data <- data.frame(aa,bb,cc)\n",
    "fd_data$MEAN <- apply(fd_data,1,mean,na.rm=T)\n",
    "fd_data$SD <- apply(fd_data[,1:3],1,sd,na.rm=T)\n",
    "fd_data$CV <- (fd_data$SD/fd_data$MEAN)\n",
    "\n",
    "save(fd_data,file = paste0(\"H:\\\\NO.1 flash drought\\\\03data\\\\data_GEE5\\\\occ_fre\\\\occ_fre_sd_cv_2\",\".RData\"))\n",
    "# return(j)\n",
    "# }\n",
    "# sapply(1:12,fun)"
   ]
  },
  {
   "cell_type": "markdown",
   "metadata": {},
   "source": [
    "2.计算面积变化======================================"
   ]
  },
  {
   "cell_type": "code",
   "execution_count": 20,
   "metadata": {},
   "outputs": [],
   "source": [
    "area_change=function(file_name,lonlat_name,save_name){\n",
    "load(file_name)\n",
    "load(lonlat_name)\n",
    "load(\"E:\\\\NO.1 flash drought\\\\03data\\\\ERA5\\\\1.result\\\\lon_lat_area.RData\")  #0.5格点的面积\n",
    "#occ_total = rowSums(occ_number, na.rm = T)\n",
    "dat = data.frame(x=grid2$lon, y=grid2$lat, z= occ_number)#[(720*5*18+1):(720*5*19)]\n",
    "names(dat)=c(\"lon\",\"lat\")\n",
    "#data <- dat[-which(dat$occ_number==0),]\n",
    "result <- merge(dat,lon_lat_area,by=c(\"lon\",\"lat\")) \n",
    "\n",
    "fun_area <- function(data){\n",
    "  data2 <- data[,3:42]*data[,43]\n",
    "  return(data2)\n",
    "}\n",
    "aa <- fun_area(result)\n",
    "occ_area = colSums(aa, na.rm = T)#每年发生骤旱的面积\n",
    "year=1981:2020\n",
    "\n",
    "occ_area <- data.frame(year,occ_area)\n",
    "\n",
    "#计算年际变化率\n",
    "change_fun <- function(i,data){\n",
    "  x=data[i,2]\n",
    "  y=data[i+1,2]\n",
    "  z=((y-x)*100)/x\n",
    "  return(z)\n",
    "}\n",
    "\n",
    "\n",
    "change_data <- NULL\n",
    "for(i in 1:39){\n",
    "  change_data[i+1]<- change_fun(i,occ_area)\n",
    "  #print(paste0(\"OK_\",i))\n",
    "}\n",
    "\n",
    "occ_area$change <- change_data\n",
    "\n",
    "colnames(occ_area) <- c(\"year\",\"area\",\"change\")  \n",
    "save(occ_area,file = save_name)\n",
    "return(occ_area)\n",
    "}\n"
   ]
  },
  {
   "cell_type": "code",
   "execution_count": null,
   "metadata": {},
   "outputs": [],
   "source": [
    "#ERA5-LAND-0.5\n",
    "file_name = \"E:\\\\NO.1 flash drought\\\\03data\\\\ERA5\\\\1.result\\\\fd_characteristics_detrend.RData\"\n",
    "lonlat_name=\"E:\\\\NO.1 flash drought\\\\03data\\\\ERA5\\\\1.result\\\\grid_lon_lat.RData\"\n",
    "save_name=\"E:\\\\NO.1 flash drought\\\\03data\\\\ERA5\\\\1.result\\\\occ_area.RData\"\n",
    "\n",
    "#GLEAM-0.25\n",
    "file_name2=\"E:\\\\NO.1 flash drought\\\\03data\\\\gleam_v3.5a\\\\fd_result6\\\\fd_characteristics_detrend.RData\"\n",
    "lonlat_name2=\"E:\\\\NO.1 flash drought\\\\03data\\\\gleam_v3.5a\\\\grid_lon_lat.RData\"\n",
    "save_name2=\"E:\\\\NO.1 flash drought\\\\03data\\\\gleam_v3.5a\\\\fd_result6\\\\occ_area.RData\"\n",
    "\n",
    "#GLEAM-0.5\n",
    "file_name3=\"E:\\\\NO.1 flash drought\\\\03data\\\\gleam_v3.5a\\\\6.GLEAM-0.5\\\\fd_characteristics_detrend.RData\"\n",
    "lonlat_name3=\"E:\\\\NO.1 flash drought\\\\03data\\\\ERA5\\\\1.result\\\\grid_lon_lat.RData\"\n",
    "save_name3=\"E:\\\\NO.1 flash drought\\\\03data\\\\gleam_v3.5a\\\\6.GLEAM-0.5\\\\occ_area.RData\"\n",
    "\n",
    "#ERA5-0.5\n",
    "file_name4=\"E:\\\\NO.1 flash drought\\\\03data\\\\ERA5\\\\2.fd_result\\\\fd_characteristics_detrend.RData\"\n",
    "lonlat_name4=\"E:\\\\NO.1 flash drought\\\\03data\\\\ERA5\\\\1.result\\\\grid_lon_lat.RData\"\n",
    "save_name4=\"E:\\\\NO.1 flash drought\\\\03data\\\\ERA5\\\\2.fd_result\\\\occ_area.RData\"\n",
    "\n",
    "#GEE5\n",
    "file_name5=\"E:\\\\NO.1 flash drought\\\\03data\\\\data_GEE5\\\\fd_characteristics_detrend.RData\"\n",
    "lonlat_name5=\"E:\\\\NO.1 flash drought\\\\03data\\\\ERA5\\\\1.result\\\\grid_lon_lat.RData\"\n",
    "save_name5=\"E:\\\\NO.1 flash drought\\\\03data\\\\data_GEE5\\\\occ_area.RData\"\n",
    "\n",
    "#area_change(file_name,lonlat_name,save_name)\n",
    "#area_change(file_name2,lonlat_name2,save_name2)(年数不同)\n",
    "#area_change(file_name3,lonlat_name3,save_name3)\n",
    "area_change(file_name4,lonlat_name4,save_name4)\n",
    "#area_change(file_name5,lonlat_name5,save_name5)\n"
   ]
  },
  {
   "cell_type": "markdown",
   "metadata": {},
   "source": [
    "2.1计算分区的面积变化"
   ]
  },
  {
   "cell_type": "code",
   "execution_count": 9,
   "metadata": {},
   "outputs": [],
   "source": [
    "load(\"H:\\\\NO.1 flash drought\\\\03data\\\\data_GEE5\\\\fd_characteristics_detrend.RData\")\n",
    "load(\"H:\\\\NO.1 flash drought\\\\03data\\\\ERA5\\\\1.result\\\\grid_lon_lat.RData\")\n",
    "load(\"H:\\\\NO.1 flash drought\\\\03data\\\\ERA5\\\\1.result\\\\lon_lat_area.RData\")  #0.5格点的面积\n",
    "\n",
    "area_change=function(xmin,xmax,ymin,ymax,j){\n",
    "  #occ_total = rowSums(occ_number, na.rm = T)\n",
    "  dat = data.frame(x=grid2$lon, y=grid2$lat, z= occ_number)#[(720*5*18+1):(720*5*19)]\n",
    "  names(dat)=c(\"lon\",\"lat\")\n",
    "  #data <- dat[-which(dat$occ_number==0),]\n",
    "  data <- merge(dat,lon_lat_area,by=c(\"lon\",\"lat\")) \n",
    "  data1 <- data[data$lon>(xmin) & data$lon<(xmax) & data$lat>(ymin) & data$lat<(ymax),]\n",
    "  \n",
    "  fun_area <- function(data){\n",
    "    data2 <- data[,3:42]*data[,43]\n",
    "    return(data2)\n",
    "  }\n",
    "  aa <- fun_area(data1)\n",
    "  occ_area = colSums(aa, na.rm = T)#每年发生骤旱的面积\n",
    "  year=1981:2020\n",
    "  \n",
    "  occ_area <- data.frame(year,occ_area)\n",
    "  \n",
    "  #计算年际变化率\n",
    "  change_fun <- function(i,data){\n",
    "    x=data[i,2]\n",
    "    y=data[i+1,2]\n",
    "    z=((y-x)*100)/x\n",
    "    return(z)\n",
    "  }\n",
    "  \n",
    "  \n",
    "  change_data <- NULL\n",
    "  for(i in 1:39){\n",
    "    change_data[i+1]<- change_fun(i,occ_area)\n",
    "    #print(paste0(\"OK_\",i))\n",
    "  }\n",
    "  \n",
    "  occ_area$change <- change_data\n",
    "  \n",
    "  colnames(occ_area) <- c(\"year\",\"area\",\"change\")  \n",
    "  save(occ_area,file = paste0(\"H:\\\\NO.1 flash drought\\\\03data\\\\data_GEE5\\\\occ_area\",j,\".RData\"))\n",
    "  return(j)\n",
    "}\n"
   ]
  },
  {
   "cell_type": "code",
   "execution_count": null,
   "metadata": {},
   "outputs": [],
   "source": [
    "area_change(ymin=31.5,ymax =41.5 ,xmin =-123.9 ,xmax =-96.1 ,1)\n",
    "area_change(ymin=16.7,ymax =26 ,xmin =-106.5 ,xmax =-96.5 ,2)\n",
    "area_change(ymin=-22.4,ymax =-3.8 ,xmin =-48 ,xmax =-34.9 ,3)\n",
    "area_change(ymin=-30.1,ymax =-13.9 ,xmin =-75.2 ,xmax =-65.5 ,4)\n",
    "area_change(ymin=36.1,ymax =44.6 ,xmin =-8.6 ,xmax =-0.8 ,5)\n",
    "area_change(ymin=17.5,ymax =34.5 ,xmin =-17.2 ,xmax =32.7 ,6)\n",
    "area_change(ymin=-7.6,ymax =10.8 ,xmin =30.5 ,xmax =42.1 ,7)\n",
    "area_change(ymin=-20.5,ymax =-13.8 ,xmin =11.6 ,xmax =35.9 ,8)\n",
    "area_change(ymin=12.3,ymax =37.1 ,xmin =36 ,xmax =68.1 ,9)\n",
    "area_change(ymin=27.5,ymax =40.7 ,xmin =77.4 ,xmax =101 ,10)\n",
    "area_change(ymin=6.5,ymax =26.1 ,xmin =71.7 ,xmax =88.1 ,11)\n",
    "area_change(ymin=-19.3,ymax =-10.8 ,xmin =127.3 ,xmax =145.5 ,12)"
   ]
  },
  {
   "cell_type": "markdown",
   "metadata": {},
   "source": [
    "2.2计算面积占比"
   ]
  },
  {
   "cell_type": "code",
   "execution_count": 25,
   "metadata": {},
   "outputs": [],
   "source": [
    "#分区\n",
    "\n",
    "#load(\"H:\\\\NO.1 flash drought\\\\03data\\\\data_GEE5\\\\fd_characteristics_detrend.RData\")\n",
    "load(\"H:\\\\NO.1 flash drought\\\\03data\\\\gleam_v3.5a\\\\6.GLEAM-0.5\\\\fd_characteristics_detrend.RData\")\n",
    "#load(\"H:\\\\NO.1 flash drought\\\\03data\\\\ERA5\\\\2.fd_result\\\\fd_characteristics_detrend.RData\")\n",
    "#load(\"H:\\\\NO.1 flash drought\\\\03data\\\\ERA5\\\\1.result\\\\fd_characteristics_detrend.RData\")\n",
    "load(\"H:\\\\NO.1 flash drought\\\\03data\\\\ERA5\\\\1.result\\\\grid_lon_lat.RData\")\n",
    "load(\"H:\\\\NO.1 flash drought\\\\03data\\\\ERA5\\\\1.result\\\\lon_lat_area.RData\")  #0.5格点的面积\n",
    "#ymin=31.5;ymax =41.5;xmin =-123.9;xmax =-96.1\n",
    "\n",
    "area_change=function(xmin,xmax,ymin,ymax,j){\n",
    "  #occ_total = rowSums(occ_number, na.rm = T)\n",
    "  dat = data.frame(x=grid2$lon, y=grid2$lat, z= occ_number)#[(720*5*18+1):(720*5*19)]\n",
    "  names(dat)=c(\"lon\",\"lat\")\n",
    "  #data <- dat[-which(dat$occ_number==0),]\n",
    "  data <- merge(dat,lon_lat_area,by=c(\"lon\",\"lat\")) \n",
    "  data1 <- data[data$lon>(xmin) & data$lon<(xmax) & data$lat>(ymin) & data$lat<(ymax),]\n",
    "  \n",
    "  #data=data1[1,3:42]\n",
    "  fun <- function(data){\n",
    "    data[-which(is.na(data))]=1 \n",
    "    return(data)\n",
    "  } \n",
    "  #fun(data)\n",
    "  data2 <- apply(data1[,3:42],1,fun)\n",
    "  #data3 <- data.frame(t(data2),data1[,43])\n",
    "  data3 <- t(data2)*data1[,43]\n",
    "  \n",
    "  data4 <- apply(data3,2,sum,na.rm=T)\n",
    "  data5 <-as.numeric((data4*100)/sum(data1[,43]))\n",
    "  \n",
    "  year=1981:2020\n",
    "  \n",
    "  occ_area <- data.frame(year,data5)\n",
    "  \n",
    "  #计算年际变化率\n",
    "  change_fun <- function(i,data){\n",
    "    x=data[i,2]\n",
    "    y=data[i+1,2]\n",
    "    z=((y-x)*100)/x\n",
    "    return(z)\n",
    "  }\n",
    "  \n",
    "  \n",
    "  change_data <- NULL\n",
    "  for(i in 1:39){\n",
    "    change_data[i+1]<- change_fun(i,occ_area)\n",
    "    #print(paste0(\"OK_\",i))\n",
    "  }\n",
    "  \n",
    "  occ_area$change <- change_data\n",
    "  \n",
    "  colnames(occ_area) <- c(\"year\",\"area\",\"change\")  \n",
    "  #save(occ_area,file = paste0(\"H:\\\\NO.1 flash drought\\\\03data\\\\data_GEE5\\\\occ_area_acount\",j,\".RData\"))\n",
    "  #save(occ_area,file = paste0(\"H:\\\\NO.1 flash drought\\\\03data\\\\gleam_v3.5a\\\\6.GLEAM-0.5\\\\occ_area_acount\",j,\".RData\"))\n",
    "  #save(occ_area,file = paste0(\"H:\\\\NO.1 flash drought\\\\03data\\\\ERA5\\\\2.fd_result\\\\occ_area_acount\",j,\".RData\"))\n",
    "  #save(occ_area,file = paste0(\"H:\\\\NO.1 flash drought\\\\03data\\\\ERA5\\\\1.result\\\\occ_area_acount\",j,\".RData\"))\n",
    "  return(occ_area)\n",
    "}\n",
    "\n"
   ]
  },
  {
   "cell_type": "code",
   "execution_count": null,
   "metadata": {},
   "outputs": [],
   "source": [
    "area_change(ymin=31.5,ymax =41.5 ,xmin =-123.9 ,xmax =-96.1 ,1)\n",
    "area_change(ymin=16.7,ymax =26 ,xmin =-106.5 ,xmax =-96.5 ,2)\n",
    "area_change(ymin=-22.4,ymax =-3.8 ,xmin =-48 ,xmax =-34.9 ,3)\n",
    "area_change(ymin=-30.1,ymax =-13.9 ,xmin =-75.2 ,xmax =-65.5 ,4)\n",
    "area_change(ymin=36.1,ymax =44.6 ,xmin =-8.6 ,xmax =-0.8 ,5)\n",
    "area_change(ymin=17.5,ymax =34.5 ,xmin =-17.2 ,xmax =32.7 ,6)\n",
    "area_change(ymin=-7.6,ymax =10.8 ,xmin =30.5 ,xmax =42.1 ,7)\n",
    "area_change(ymin=-20.5,ymax =-13.8 ,xmin =11.6 ,xmax =35.9 ,8)\n",
    "area_change(ymin=12.3,ymax =37.1 ,xmin =36 ,xmax =68.1 ,9)\n",
    "area_change(ymin=27.5,ymax =40.7 ,xmin =77.4 ,xmax =101 ,10)\n",
    "area_change(ymin=6.5,ymax =26.1 ,xmin =71.7 ,xmax =88.1 ,11)\n",
    "area_change(ymin=-19.3,ymax =-10.8 ,xmin =127.3 ,xmax =145.5 ,12)"
   ]
  },
  {
   "cell_type": "code",
   "execution_count": 44,
   "metadata": {},
   "outputs": [
    {
     "name": "stderr",
     "output_type": "stream",
     "text": [
      "Warning message in merge.data.frame(dat, lon_lat_area, by = c(\"lon\", \"lat\")):\n",
      "\"column names 'NA', 'NA', 'NA', 'NA', 'NA', 'NA', 'NA', 'NA', 'NA', 'NA', 'NA', 'NA', 'NA', 'NA', 'NA', 'NA', 'NA', 'NA', 'NA', 'NA', 'NA', 'NA', 'NA', 'NA', 'NA', 'NA', 'NA', 'NA', 'NA', 'NA', 'NA', 'NA', 'NA', 'NA', 'NA', 'NA', 'NA', 'NA', 'NA' are duplicated in the result\"\n"
     ]
    }
   ],
   "source": [
    "#全球\n",
    "\n",
    "#load(\"H:\\\\NO.1 flash drought\\\\03data\\\\data_GEE5\\\\fd_characteristics_detrend.RData\")\n",
    "#load(\"H:\\\\NO.1 flash drought\\\\03data\\\\gleam_v3.5a\\\\6.GLEAM-0.5\\\\fd_characteristics_detrend.RData\")\n",
    "#load(\"H:\\\\NO.1 flash drought\\\\03data\\\\ERA5\\\\2.fd_result\\\\fd_characteristics_detrend.RData\")\n",
    "load(\"H:\\\\NO.1 flash drought\\\\03data\\\\ERA5\\\\1.result\\\\fd_characteristics_detrend.RData\")\n",
    "load(\"H:\\\\NO.1 flash drought\\\\03data\\\\ERA5\\\\1.result\\\\grid_lon_lat.RData\")\n",
    "load(\"H:\\\\NO.1 flash drought\\\\03data\\\\ERA5\\\\1.result\\\\lon_lat_area.RData\")  #0.5格点的面积\n",
    "#ymin=31.5;ymax =41.5;xmin =-123.9;xmax =-96.1\n",
    "\n",
    "#area_change=function(xmin,xmax,ymin,ymax,j){\n",
    "  #occ_total = rowSums(occ_number, na.rm = T)\n",
    "  dat = data.frame(x=grid2$lon, y=grid2$lat, z= occ_number)#[(720*5*18+1):(720*5*19)]\n",
    "  names(dat)=c(\"lon\",\"lat\")\n",
    "  #data <- dat[-which(dat$occ_number==0),]\n",
    "  data1 <- merge(dat,lon_lat_area,by=c(\"lon\",\"lat\")) \n",
    "  #data1 <- data[data$lon>(xmin) & data$lon<(xmax) & data$lat>(ymin) & data$lat<(ymax),]\n",
    "  \n",
    "  #data=data1[1,3:42]\n",
    "  fun <- function(data){\n",
    "    data[-which(is.na(data))]=1 \n",
    "    return(data)\n",
    "  } \n",
    "  #fun(data)\n",
    "  data2 <- apply(data1[,3:42],1,fun)\n",
    "  #data3 <- data.frame(t(data2),data1[,43])\n",
    "  data3 <- t(data2)*data1[,43]\n",
    "  \n",
    "  data4 <- apply(data3,2,sum,na.rm=T)\n",
    "  data5 <-as.numeric((data4*100)/sum(data1[,43]))\n",
    "  \n",
    "  year=1981:2020\n",
    "  \n",
    "  occ_area <- data.frame(year,data5)\n",
    "  \n",
    "  #计算年际变化率\n",
    "  change_fun <- function(i,data){\n",
    "    x=data[i,2]\n",
    "    y=data[i+1,2]\n",
    "    z=((y-x)*100)/x\n",
    "    return(z)\n",
    "  }\n",
    "  \n",
    "  \n",
    "  change_data <- NULL\n",
    "  for(i in 1:39){\n",
    "    change_data[i+1]<- change_fun(i,occ_area)\n",
    "    #print(paste0(\"OK_\",i))\n",
    "  }\n",
    "  \n",
    "  occ_area$change <- change_data\n",
    "  \n",
    "  colnames(occ_area) <- c(\"year\",\"area\",\"change\")  \n",
    "  #save(occ_area,file = paste0(\"H:\\\\NO.1 flash drought\\\\03data\\\\data_GEE5\\\\occ_area_acount\",j,\".RData\"))\n",
    "  #save(occ_area,file = paste0(\"H:\\\\NO.1 flash drought\\\\03data\\\\gleam_v3.5a\\\\6.GLEAM-0.5\\\\occ_area_acount\",\".RData\"))\n",
    "  #save(occ_area,file = paste0(\"H:\\\\NO.1 flash drought\\\\03data\\\\ERA5\\\\2.fd_result\\\\occ_area_acount\",\".RData\"))\n",
    "  save(occ_area,file = paste0(\"H:\\\\NO.1 flash drought\\\\03data\\\\ERA5\\\\1.result\\\\occ_area_acount\",\".RData\"))\n",
    "#   return(occ_area)\n",
    "# }"
   ]
  },
  {
   "cell_type": "markdown",
   "metadata": {},
   "source": [
    "2.3计算面积占比（分区综合结果）"
   ]
  },
  {
   "cell_type": "code",
   "execution_count": 30,
   "metadata": {},
   "outputs": [],
   "source": [
    "#计算年占比   \n",
    "fun=function(j){\n",
    "  #load(file = paste0(\"H:\\\\NO.1 flash drought\\\\03data\\\\data_GEE5\\\\occ_area_acount\",j,\".RData\"))\n",
    "  load(file = paste0(\"H:\\\\NO.1 flash drought\\\\03data\\\\gleam_v3.5a\\\\6.GLEAM-0.5\\\\occ_area_acount\",j,\".RData\"))\n",
    "  aa=occ_area[,2]\n",
    "  load(file = paste0(\"H:\\\\NO.1 flash drought\\\\03data\\\\ERA5\\\\2.fd_result\\\\occ_area_acount\",j,\".RData\"))\n",
    "  bb=occ_area[,2]\n",
    "  load(file = paste0(\"H:\\\\NO.1 flash drought\\\\03data\\\\ERA5\\\\1.result\\\\occ_area_acount\",j,\".RData\"))\n",
    "  cc=occ_area[,2]\n",
    "\n",
    "load(file=\"H:\\\\NO.1 flash drought\\\\03data\\\\ERA5\\\\1.result\\\\grid_lon_lat.RData\")\n",
    "\n",
    "fd_data <- data.frame(aa,bb,cc)\n",
    "fd_data$MEAN <- apply(fd_data,1,mean,na.rm=T)\n",
    "fd_data$SD <- apply(fd_data[,1:3],1,sd,na.rm=T)\n",
    "fd_data$CV <- (fd_data$SD/fd_data$MEAN)\n",
    "\n",
    "save(fd_data,file = paste0(\"H:\\\\NO.1 flash drought\\\\03data\\\\data_GEE5\\\\occ_area_acount\\\\occ_area_acount_sd_cv\",j,\".RData\"))\n",
    "return(j)\n",
    "}\n",
    "sapply(1:12,fun)"
   ]
  },
  {
   "cell_type": "markdown",
   "metadata": {},
   "source": [
    "2.4计算面积占比（全球综合结果）"
   ]
  },
  {
   "cell_type": "code",
   "execution_count": 45,
   "metadata": {},
   "outputs": [],
   "source": [
    "#计算年占比   \n",
    "#fun=function(j){\n",
    "  #load(file = paste0(\"H:\\\\NO.1 flash drought\\\\03data\\\\data_GEE5\\\\occ_area_acount\",j,\".RData\"))\n",
    "  load(file = paste0(\"H:\\\\NO.1 flash drought\\\\03data\\\\gleam_v3.5a\\\\6.GLEAM-0.5\\\\occ_area_acount\",\".RData\"))\n",
    "  aa=occ_area[,2]\n",
    "  load(file = paste0(\"H:\\\\NO.1 flash drought\\\\03data\\\\ERA5\\\\2.fd_result\\\\occ_area_acount\",\".RData\"))\n",
    "  bb=occ_area[,2]\n",
    "  load(file = paste0(\"H:\\\\NO.1 flash drought\\\\03data\\\\ERA5\\\\1.result\\\\occ_area_acount\",\".RData\"))\n",
    "  cc=occ_area[,2]\n",
    "\n",
    "load(file=\"H:\\\\NO.1 flash drought\\\\03data\\\\ERA5\\\\1.result\\\\grid_lon_lat.RData\")\n",
    "\n",
    "fd_data <- data.frame(aa,bb,cc)\n",
    "fd_data$MEAN <- apply(fd_data,1,mean,na.rm=T)\n",
    "fd_data$SD <- apply(fd_data[,1:3],1,sd,na.rm=T)\n",
    "fd_data$CV <- (fd_data$SD/fd_data$MEAN)\n",
    "\n",
    " save(fd_data,file = paste0(\"H:\\\\NO.1 flash drought\\\\03data\\\\data_GEE5\\\\occ_area_acount\\\\occ_area_acount_sd_cv\",\".RData\"))\n",
    "# return(j)\n",
    "# }\n",
    "# sapply(1:12,fun)"
   ]
  },
  {
   "cell_type": "code",
   "execution_count": 74,
   "metadata": {},
   "outputs": [
    {
     "data": {
      "text/html": [
       "<ol>\n",
       "\t<li>NULL</li>\n",
       "\t<li>NULL</li>\n",
       "\t<li>NULL</li>\n",
       "\t<li>NULL</li>\n",
       "</ol>\n"
      ],
      "text/latex": [
       "\\begin{enumerate}\n",
       "\\item NULL\n",
       "\\item NULL\n",
       "\\item NULL\n",
       "\\item NULL\n",
       "\\end{enumerate}\n"
      ],
      "text/markdown": [
       "1. NULL\n",
       "2. NULL\n",
       "3. NULL\n",
       "4. NULL\n",
       "\n",
       "\n"
      ],
      "text/plain": [
       "[[1]]\n",
       "NULL\n",
       "\n",
       "[[2]]\n",
       "NULL\n",
       "\n",
       "[[3]]\n",
       "NULL\n",
       "\n",
       "[[4]]\n",
       "NULL\n"
      ]
     },
     "metadata": {},
     "output_type": "display_data"
    }
   ],
   "source": [
    "#计算季节年占比   \n",
    "sea_fun <- function(i){\n",
    "load(file = paste0(\"H:\\\\NO.1 flash drought\\\\03data\\\\gleam_v3.5a\\\\6.GLEAM-0.5\\\\occ_area_season\",i,\".RData\"))\n",
    "aa=occ_area[,2]\n",
    "load(file = paste0(\"H:\\\\NO.1 flash drought\\\\03data\\\\ERA5\\\\2.fd_result\\\\occ_area_season\",i,\".RData\"))\n",
    "bb=occ_area[,2]\n",
    "load(file = paste0(\"H:\\\\NO.1 flash drought\\\\03data\\\\ERA5\\\\1.result\\\\occ_area_season\",i,\".RData\"))\n",
    "cc=occ_area[,2]\n",
    "\n",
    "load(file=\"H:\\\\NO.1 flash drought\\\\03data\\\\ERA5\\\\1.result\\\\grid_lon_lat.RData\")\n",
    "\n",
    "fd_data <- data.frame(aa,bb,cc)\n",
    "fd_data$MEAN <- apply(fd_data,1,mean,na.rm=T)\n",
    "fd_data$SD <- apply(fd_data[,1:3],1,sd,na.rm=T)\n",
    "fd_data$CV <- (fd_data$SD/fd_data$MEAN)\n",
    "\n",
    "save(fd_data,file = paste0(\"H:\\\\NO.1 flash drought\\\\03data\\\\data_GEE5\\\\occ_area_acount\\\\occ_area_acount_sd_cv_season\",i,\".RData\"))\n",
    " #return(j)\n",
    " }\n",
    "\n",
    " sapply(1:4,sea_fun)"
   ]
  },
  {
   "cell_type": "code",
   "execution_count": 73,
   "metadata": {},
   "outputs": [
    {
     "data": {
      "text/html": [
       "<ol>\n",
       "\t<li>NULL</li>\n",
       "\t<li>NULL</li>\n",
       "\t<li>NULL</li>\n",
       "\t<li>NULL</li>\n",
       "</ol>\n"
      ],
      "text/latex": [
       "\\begin{enumerate}\n",
       "\\item NULL\n",
       "\\item NULL\n",
       "\\item NULL\n",
       "\\item NULL\n",
       "\\end{enumerate}\n"
      ],
      "text/markdown": [
       "1. NULL\n",
       "2. NULL\n",
       "3. NULL\n",
       "4. NULL\n",
       "\n",
       "\n"
      ],
      "text/plain": [
       "[[1]]\n",
       "NULL\n",
       "\n",
       "[[2]]\n",
       "NULL\n",
       "\n",
       "[[3]]\n",
       "NULL\n",
       "\n",
       "[[4]]\n",
       "NULL\n"
      ]
     },
     "metadata": {},
     "output_type": "display_data"
    }
   ],
   "source": [
    "#计算强度年占比   \n",
    "sea_fun <- function(i){\n",
    "load(file = paste0(\"H:\\\\NO.1 flash drought\\\\03data\\\\gleam_v3.5a\\\\6.GLEAM-0.5\\\\occ_area_intensity\",i,\".RData\"))\n",
    "aa=occ_area[,2]\n",
    "load(file = paste0(\"H:\\\\NO.1 flash drought\\\\03data\\\\ERA5\\\\2.fd_result\\\\occ_area_intensity\",i,\".RData\"))\n",
    "bb=occ_area[,2]\n",
    "load(file = paste0(\"H:\\\\NO.1 flash drought\\\\03data\\\\ERA5\\\\1.result\\\\occ_area_intensity\",i,\".RData\"))\n",
    "cc=occ_area[,2]\n",
    "\n",
    "load(file=\"H:\\\\NO.1 flash drought\\\\03data\\\\ERA5\\\\1.result\\\\grid_lon_lat.RData\")\n",
    "\n",
    "fd_data <- data.frame(aa,bb,cc)\n",
    "fd_data$MEAN <- apply(fd_data,1,mean,na.rm=T)\n",
    "fd_data$SD <- apply(fd_data[,1:3],1,sd,na.rm=T)\n",
    "fd_data$CV <- (fd_data$SD/fd_data$MEAN)\n",
    "\n",
    "save(fd_data,file = paste0(\"H:\\\\NO.1 flash drought\\\\03data\\\\data_GEE5\\\\occ_area_acount\\\\occ_area_acount_sd_cv_intensity\",i,\".RData\"))\n",
    " #return(j)\n",
    " }\n",
    "\n",
    " sapply(1:4,sea_fun)"
   ]
  },
  {
   "cell_type": "markdown",
   "metadata": {},
   "source": [
    "5.生成分区"
   ]
  },
  {
   "cell_type": "code",
   "execution_count": null,
   "metadata": {},
   "outputs": [],
   "source": [
    "#在ARCGIS上进行操作\n",
    "#画框-导出数据"
   ]
  },
  {
   "cell_type": "markdown",
   "metadata": {},
   "source": [
    "6.计算骤旱的季节平均占比"
   ]
  },
  {
   "cell_type": "code",
   "execution_count": 3,
   "metadata": {},
   "outputs": [],
   "source": [
    "sea_fun <- function(filename,lonlatname){\n",
    "load(filename)\n",
    "load(lonlatname) \n",
    "#season_name <- c(\"SON\",\"JJA\",\"MAM\",\"DJF\")\n",
    "season_name <- c(\"DJF\",\"SON\",\"JJA\",\"MAM\")\n",
    "\n",
    "data1 <- rowSums(fd_month[,,1], na.rm = T)\n",
    "data2 <- rowSums(fd_month[,,2], na.rm = T)\n",
    "data3 <- rowSums(fd_month[,,3], na.rm = T)\n",
    "data4 <- rowSums(fd_month[,,4], na.rm = T)\n",
    "data5 <- data.frame(data1,data2,data3,data4)\n",
    "data5$data6 <- rowSums(data5,na.rm = T)   #所有事件的总和\n",
    "#sea=sum(data5$data6,na.rm = T)\n",
    "\n",
    "data <- fd_month[,,1]\n",
    "occ_total_intensity = rowSums(data, na.rm = T)    #骤旱发生的数量\n",
    "#sea1=sum(occ_total_intensity,na.rm = T)/sea\n",
    "data7 <- (occ_total_intensity*100)/data5$data6\n",
    "\n",
    "data <- fd_month[,,2]\n",
    "occ_total_intensity = rowSums(data, na.rm = T)    #骤旱发生的数量\n",
    "#sea2=sum(occ_total_intensity,na.rm = T)/sea\n",
    "data8 <- (occ_total_intensity*100)/data5$data6\n",
    "\n",
    "data <- fd_month[,,3]\n",
    "occ_total_intensity = rowSums(data, na.rm = T)    #骤旱发生的数量\n",
    "#sea3=sum(occ_total_intensity,na.rm = T)/sea\n",
    "data9 <- (occ_total_intensity*100)/data5$data6\n",
    "\n",
    "data <- fd_month[,,4]\n",
    "occ_total_intensity = rowSums(data, na.rm = T)    #骤旱发生的数量\n",
    "#sea4=sum(occ_total_intensity,na.rm = T)/sea\n",
    "data10 <- (occ_total_intensity*100)/data5$data6\n",
    "\n",
    "data11 <- data.frame(data7,data8,data9,data10)\n",
    "#sea5=c(sea1,sea2,sea3,sea4)\n",
    "return(data11)\n",
    "}\n",
    "\n",
    "#ERA5-0.5\n",
    "filename=\"H:\\\\NO.1 flash drought\\\\03data\\\\ERA5\\\\2.fd_result\\\\fd_characteristics_detrend.RData\"\n",
    "lonlatname=\"H:\\\\NO.1 flash drought\\\\03data\\\\ERA5\\\\1.result\\\\grid_lon_lat.RData\"\n",
    "aa <- sea_fun(filename,lonlatname)\n",
    "#ERA5-LAND-0.5\n",
    "filename=\"H:\\\\NO.1 flash drought\\\\03data\\\\ERA5\\\\1.result\\\\fd_characteristics_detrend.RData\"\n",
    "lonlatname=\"H:\\\\NO.1 flash drought\\\\03data\\\\ERA5\\\\1.result\\\\grid_lon_lat.RData\"\n",
    "bb <- sea_fun(filename,lonlatname)\n",
    "# #GLEAM-0.5\n",
    "filename=\"H:\\\\NO.1 flash drought\\\\03data\\\\gleam_v3.5a\\\\6.GLEAM-0.5\\\\fd_characteristics_detrend.RData\"\n",
    "lonlatname=\"H:\\\\NO.1 flash drought\\\\03data\\\\ERA5\\\\1.result\\\\grid_lon_lat.RData\"\n",
    "cc <- sea_fun(filename,lonlatname)\n",
    "\n",
    "month1 <- data.frame(aa$data7,bb$data7,cc$data7)\n",
    "month2 <- data.frame(aa$data8,bb$data8,cc$data8)\n",
    "month3 <- data.frame(aa$data9,bb$data9,cc$data9)\n",
    "month4 <- data.frame(aa$data10,bb$data10,cc$data10)\n",
    "\n",
    "month5 = rowMeans(month1, na.rm = T)\n",
    "month6 = rowMeans(month2, na.rm = T)\n",
    "month7 = rowMeans(month3, na.rm = T)\n",
    "month8 = rowMeans(month4, na.rm = T)\n",
    "month9 <- data.frame(month5,month6,month7,month8)\n",
    "\n",
    "load(lonlatname) \n",
    "#sum(occ_total_intensity)\n",
    "dat = data.frame(x=grid2$lon, y=grid2$lat, z=month9)#[(720*5*18+1):(720*5*19)]\n",
    "names(dat)=c(\"lon\",\"lat\",\"DJF\",\"SON\",\"JJA\",\"MAM\")\n",
    "\n",
    "save(dat,file = paste0(\"H:\\\\NO.1 flash drought\\\\03data\\\\data_GEE5\\\\sea_mean_3data.RData\"))\n"
   ]
  },
  {
   "cell_type": "markdown",
   "metadata": {},
   "source": [
    "6.1骤旱四季的比例"
   ]
  },
  {
   "cell_type": "code",
   "execution_count": 10,
   "metadata": {},
   "outputs": [
    {
     "data": {
      "text/html": [
       "<style>\n",
       ".list-inline {list-style: none; margin:0; padding: 0}\n",
       ".list-inline>li {display: inline-block}\n",
       ".list-inline>li:not(:last-child)::after {content: \"\\00b7\"; padding: 0 .5ex}\n",
       "</style>\n",
       "<ol class=list-inline><li>0.26536410452666</li><li>0.233982811837037</li><li>0.217493489962479</li><li>0.283159593673824</li></ol>\n"
      ],
      "text/latex": [
       "\\begin{enumerate*}\n",
       "\\item 0.26536410452666\n",
       "\\item 0.233982811837037\n",
       "\\item 0.217493489962479\n",
       "\\item 0.283159593673824\n",
       "\\end{enumerate*}\n"
      ],
      "text/markdown": [
       "1. 0.26536410452666\n",
       "2. 0.233982811837037\n",
       "3. 0.217493489962479\n",
       "4. 0.283159593673824\n",
       "\n",
       "\n"
      ],
      "text/plain": [
       "[1] 0.2653641 0.2339828 0.2174935 0.2831596"
      ]
     },
     "metadata": {},
     "output_type": "display_data"
    },
    {
     "data": {
      "text/html": [
       "<style>\n",
       ".list-inline {list-style: none; margin:0; padding: 0}\n",
       ".list-inline>li {display: inline-block}\n",
       ".list-inline>li:not(:last-child)::after {content: \"\\00b7\"; padding: 0 .5ex}\n",
       "</style>\n",
       "<ol class=list-inline><li>0.273438052784264</li><li>0.227778072596052</li><li>0.223625557206538</li><li>0.275158317413147</li></ol>\n"
      ],
      "text/latex": [
       "\\begin{enumerate*}\n",
       "\\item 0.273438052784264\n",
       "\\item 0.227778072596052\n",
       "\\item 0.223625557206538\n",
       "\\item 0.275158317413147\n",
       "\\end{enumerate*}\n"
      ],
      "text/markdown": [
       "1. 0.273438052784264\n",
       "2. 0.227778072596052\n",
       "3. 0.223625557206538\n",
       "4. 0.275158317413147\n",
       "\n",
       "\n"
      ],
      "text/plain": [
       "[1] 0.2734381 0.2277781 0.2236256 0.2751583"
      ]
     },
     "metadata": {},
     "output_type": "display_data"
    },
    {
     "data": {
      "text/html": [
       "<style>\n",
       ".list-inline {list-style: none; margin:0; padding: 0}\n",
       ".list-inline>li {display: inline-block}\n",
       ".list-inline>li:not(:last-child)::after {content: \"\\00b7\"; padding: 0 .5ex}\n",
       "</style>\n",
       "<ol class=list-inline><li>0.257558709417145</li><li>0.243243413608671</li><li>0.230299133581062</li><li>0.268898743393122</li></ol>\n"
      ],
      "text/latex": [
       "\\begin{enumerate*}\n",
       "\\item 0.257558709417145\n",
       "\\item 0.243243413608671\n",
       "\\item 0.230299133581062\n",
       "\\item 0.268898743393122\n",
       "\\end{enumerate*}\n"
      ],
      "text/markdown": [
       "1. 0.257558709417145\n",
       "2. 0.243243413608671\n",
       "3. 0.230299133581062\n",
       "4. 0.268898743393122\n",
       "\n",
       "\n"
      ],
      "text/plain": [
       "[1] 0.2575587 0.2432434 0.2302991 0.2688987"
      ]
     },
     "metadata": {},
     "output_type": "display_data"
    }
   ],
   "source": [
    "sea_fun <- function(filename,lonlatname){\n",
    "  load(filename)\n",
    "  load(lonlatname) \n",
    "  #season_name <- c(\"SON\",\"JJA\",\"MAM\",\"DJF\")\n",
    "  season_name <- c(\"DJF\",\"SON\",\"JJA\",\"MAM\")\n",
    "  \n",
    "  data1 <- rowSums(fd_month[,,1], na.rm = T)\n",
    "  data2 <- rowSums(fd_month[,,2], na.rm = T)\n",
    "  data3 <- rowSums(fd_month[,,3], na.rm = T)\n",
    "  data4 <- rowSums(fd_month[,,4], na.rm = T)\n",
    "  data5 <- data.frame(data1,data2,data3,data4)\n",
    "  data5$data6 <- rowSums(data5,na.rm = T)   #所有事件的总和\n",
    "  sea=sum(data5$data6,na.rm = T)\n",
    "  \n",
    "  data <- fd_month[,,1]\n",
    "  occ_total_intensity = rowSums(data, na.rm = T)    #骤旱发生的数量\n",
    "  sea1=sum(occ_total_intensity,na.rm = T)/sea\n",
    "  \n",
    "  \n",
    "  data <- fd_month[,,2]\n",
    "  occ_total_intensity = rowSums(data, na.rm = T)    #骤旱发生的数量\n",
    "  sea2=sum(occ_total_intensity,na.rm = T)/sea\n",
    "  \n",
    "  \n",
    "  data <- fd_month[,,3]\n",
    "  occ_total_intensity = rowSums(data, na.rm = T)    #骤旱发生的数量\n",
    "  sea3=sum(occ_total_intensity,na.rm = T)/sea\n",
    "  \n",
    "  data <- fd_month[,,4]\n",
    "  occ_total_intensity = rowSums(data, na.rm = T)    #骤旱发生的数量\n",
    "  sea4=sum(occ_total_intensity,na.rm = T)/sea\n",
    "  \n",
    "  sea5=c(sea1,sea2,sea3,sea4)\n",
    "  return(sea5)\n",
    "}\n",
    "\n",
    "#ERA5-0.5\n",
    "filename=\"H:\\\\NO.1 flash drought\\\\03data\\\\ERA5\\\\2.fd_result\\\\fd_characteristics_detrend.RData\"\n",
    "lonlatname=\"H:\\\\NO.1 flash drought\\\\03data\\\\ERA5\\\\1.result\\\\grid_lon_lat.RData\"\n",
    "aa <- sea_fun(filename,lonlatname)\n",
    "#ERA5-LAND-0.5\n",
    "filename=\"H:\\\\NO.1 flash drought\\\\03data\\\\ERA5\\\\1.result\\\\fd_characteristics_detrend.RData\"\n",
    "lonlatname=\"H:\\\\NO.1 flash drought\\\\03data\\\\ERA5\\\\1.result\\\\grid_lon_lat.RData\"\n",
    "bb <- sea_fun(filename,lonlatname)\n",
    "# #GLEAM-0.5\n",
    "filename=\"H:\\\\NO.1 flash drought\\\\03data\\\\gleam_v3.5a\\\\6.GLEAM-0.5\\\\fd_characteristics_detrend.RData\"\n",
    "lonlatname=\"H:\\\\NO.1 flash drought\\\\03data\\\\ERA5\\\\1.result\\\\grid_lon_lat.RData\"\n",
    "cc <- sea_fun(filename,lonlatname)\n",
    "\n",
    "aa\n",
    "bb\n",
    "cc"
   ]
  },
  {
   "cell_type": "code",
   "execution_count": 13,
   "metadata": {},
   "outputs": [
    {
     "data": {
      "text/html": [
       "0.26545362224269"
      ],
      "text/latex": [
       "0.26545362224269"
      ],
      "text/markdown": [
       "0.26545362224269"
      ],
      "text/plain": [
       "[1] 0.2654536"
      ]
     },
     "metadata": {},
     "output_type": "display_data"
    },
    {
     "data": {
      "text/html": [
       "0.235001432680587"
      ],
      "text/latex": [
       "0.235001432680587"
      ],
      "text/markdown": [
       "0.235001432680587"
      ],
      "text/plain": [
       "[1] 0.2350014"
      ]
     },
     "metadata": {},
     "output_type": "display_data"
    },
    {
     "data": {
      "text/html": [
       "0.223806060250026"
      ],
      "text/latex": [
       "0.223806060250026"
      ],
      "text/markdown": [
       "0.223806060250026"
      ],
      "text/plain": [
       "[1] 0.2238061"
      ]
     },
     "metadata": {},
     "output_type": "display_data"
    },
    {
     "data": {
      "text/html": [
       "0.275738884826698"
      ],
      "text/latex": [
       "0.275738884826698"
      ],
      "text/markdown": [
       "0.275738884826698"
      ],
      "text/plain": [
       "[1] 0.2757389"
      ]
     },
     "metadata": {},
     "output_type": "display_data"
    }
   ],
   "source": [
    "i=1\n",
    "(aa[i]+bb[i]+cc[i])/3\n",
    "i=2\n",
    "(aa[i]+bb[i]+cc[i])/3\n",
    "i=3\n",
    "(aa[i]+bb[i]+cc[i])/3\n",
    "i=4\n",
    "(aa[i]+bb[i]+cc[i])/3"
   ]
  },
  {
   "cell_type": "markdown",
   "metadata": {},
   "source": [
    "7.计算骤旱的平均强度占比"
   ]
  },
  {
   "cell_type": "code",
   "execution_count": 4,
   "metadata": {},
   "outputs": [],
   "source": [
    "sea_fun <- function(filename,lonlatname){\n",
    "load(filename)\n",
    "load(lonlatname) \n",
    "#season_name <- c(\"SON\",\"JJA\",\"MAM\",\"DJF\")\n",
    "intensity_name <- c(\"FD_1 Slight flash drought\",\"FD_2 Moderate flash drought\",\n",
    "                    \"FD_3 Severe flash drought\",\"FD_4 Extreme flash drought\")\n",
    "\n",
    "data1 <- rowSums(fd_class[,,1], na.rm = T)\n",
    "data2 <- rowSums(fd_class[,,2], na.rm = T)\n",
    "data3 <- rowSums(fd_class[,,3], na.rm = T)\n",
    "data4 <- rowSums(fd_class[,,4], na.rm = T)\n",
    "data5 <- data.frame(data1,data2,data3,data4)\n",
    "data5$data6 <- rowSums(data5,na.rm = T)\n",
    "\n",
    "data <-fd_class[,,1]\n",
    "occ_total_intensity = rowSums(data, na.rm = T)    #骤旱发生的数量\n",
    "data7 <- (occ_total_intensity*100)/data5$data6\n",
    "\n",
    "data <- fd_class[,,2]\n",
    "occ_total_intensity = rowSums(data, na.rm = T)    #骤旱发生的数量\n",
    "data8 <- (occ_total_intensity*100)/data5$data6\n",
    "\n",
    "data <- fd_class[,,3]\n",
    "occ_total_intensity = rowSums(data, na.rm = T)    #骤旱发生的数量\n",
    "data9 <- (occ_total_intensity*100)/data5$data6\n",
    "\n",
    "data <- fd_class[,,4]\n",
    "occ_total_intensity = rowSums(data, na.rm = T)    #骤旱发生的数量\n",
    "data10 <- (occ_total_intensity*100)/data5$data6\n",
    "\n",
    "data11 <- data.frame(data7,data8,data9,data10)\n",
    "return(data11)\n",
    "}\n",
    "\n",
    "#ERA5-0.5\n",
    "filename=\"H:\\\\NO.1 flash drought\\\\03data\\\\ERA5\\\\2.fd_result\\\\fd_characteristics_detrend.RData\"\n",
    "lonlatname=\"H:\\\\NO.1 flash drought\\\\03data\\\\ERA5\\\\1.result\\\\grid_lon_lat.RData\"\n",
    "aa <- sea_fun(filename,lonlatname)\n",
    "#ERA5-LAND-0.5\n",
    "filename=\"H:\\\\NO.1 flash drought\\\\03data\\\\ERA5\\\\1.result\\\\fd_characteristics_detrend.RData\"\n",
    "lonlatname=\"H:\\\\NO.1 flash drought\\\\03data\\\\ERA5\\\\1.result\\\\grid_lon_lat.RData\"\n",
    "bb <- sea_fun(filename,lonlatname)\n",
    "# #GLEAM-0.5\n",
    "filename=\"H:\\\\NO.1 flash drought\\\\03data\\\\gleam_v3.5a\\\\6.GLEAM-0.5\\\\fd_characteristics_detrend.RData\"\n",
    "lonlatname=\"H:\\\\NO.1 flash drought\\\\03data\\\\ERA5\\\\1.result\\\\grid_lon_lat.RData\"\n",
    "cc <- sea_fun(filename,lonlatname)\n",
    "\n",
    "month1 <- data.frame(aa$data7,bb$data7,cc$data7)\n",
    "month2 <- data.frame(aa$data8,bb$data8,cc$data8)\n",
    "month3 <- data.frame(aa$data9,bb$data9,cc$data9)\n",
    "month4 <- data.frame(aa$data10,bb$data10,cc$data10)\n",
    "\n",
    "month5 = rowMeans(month1, na.rm = T)\n",
    "month6 = rowMeans(month2, na.rm = T)\n",
    "month7 = rowMeans(month3, na.rm = T)\n",
    "month8 = rowMeans(month4, na.rm = T)\n",
    "month9 <- data.frame(month5,month6,month7,month8)\n",
    "\n",
    "#sum(occ_total_intensity)\n",
    "dat = data.frame(x=grid2$lon, y=grid2$lat, z=month9)#[(720*5*18+1):(720*5*19)]\n",
    "names(dat)=c(\"lon\",\"lat\",\"FD_1\",\"FD_2\",\"FD_3\",\"FD_4\")\n",
    "save(dat,file = paste0(\"H:\\\\NO.1 flash drought\\\\03data\\\\data_GEE5\\\\intensity_mean_3data.RData\"))"
   ]
  },
  {
   "cell_type": "markdown",
   "metadata": {},
   "source": [
    "7.1骤旱不同强度的比例"
   ]
  },
  {
   "cell_type": "code",
   "execution_count": 14,
   "metadata": {},
   "outputs": [
    {
     "data": {
      "text/html": [
       "<style>\n",
       ".list-inline {list-style: none; margin:0; padding: 0}\n",
       ".list-inline>li {display: inline-block}\n",
       ".list-inline>li:not(:last-child)::after {content: \"\\00b7\"; padding: 0 .5ex}\n",
       "</style>\n",
       "<ol class=list-inline><li>0.490553165999717</li><li>0.283650446343148</li><li>0.143200026622518</li><li>0.0825963610346176</li></ol>\n"
      ],
      "text/latex": [
       "\\begin{enumerate*}\n",
       "\\item 0.490553165999717\n",
       "\\item 0.283650446343148\n",
       "\\item 0.143200026622518\n",
       "\\item 0.0825963610346176\n",
       "\\end{enumerate*}\n"
      ],
      "text/markdown": [
       "1. 0.490553165999717\n",
       "2. 0.283650446343148\n",
       "3. 0.143200026622518\n",
       "4. 0.0825963610346176\n",
       "\n",
       "\n"
      ],
      "text/plain": [
       "[1] 0.49055317 0.28365045 0.14320003 0.08259636"
      ]
     },
     "metadata": {},
     "output_type": "display_data"
    },
    {
     "data": {
      "text/html": [
       "<style>\n",
       ".list-inline {list-style: none; margin:0; padding: 0}\n",
       ".list-inline>li {display: inline-block}\n",
       ".list-inline>li:not(:last-child)::after {content: \"\\00b7\"; padding: 0 .5ex}\n",
       "</style>\n",
       "<ol class=list-inline><li>0.48812619401401</li><li>0.284820986344018</li><li>0.143613351729994</li><li>0.0834394679119791</li></ol>\n"
      ],
      "text/latex": [
       "\\begin{enumerate*}\n",
       "\\item 0.48812619401401\n",
       "\\item 0.284820986344018\n",
       "\\item 0.143613351729994\n",
       "\\item 0.0834394679119791\n",
       "\\end{enumerate*}\n"
      ],
      "text/markdown": [
       "1. 0.48812619401401\n",
       "2. 0.284820986344018\n",
       "3. 0.143613351729994\n",
       "4. 0.0834394679119791\n",
       "\n",
       "\n"
      ],
      "text/plain": [
       "[1] 0.48812619 0.28482099 0.14361335 0.08343947"
      ]
     },
     "metadata": {},
     "output_type": "display_data"
    },
    {
     "data": {
      "text/html": [
       "<style>\n",
       ".list-inline {list-style: none; margin:0; padding: 0}\n",
       ".list-inline>li {display: inline-block}\n",
       ".list-inline>li:not(:last-child)::after {content: \"\\00b7\"; padding: 0 .5ex}\n",
       "</style>\n",
       "<ol class=list-inline><li>0.373020300488838</li><li>0.298361399759836</li><li>0.193429840237265</li><li>0.135188459514062</li></ol>\n"
      ],
      "text/latex": [
       "\\begin{enumerate*}\n",
       "\\item 0.373020300488838\n",
       "\\item 0.298361399759836\n",
       "\\item 0.193429840237265\n",
       "\\item 0.135188459514062\n",
       "\\end{enumerate*}\n"
      ],
      "text/markdown": [
       "1. 0.373020300488838\n",
       "2. 0.298361399759836\n",
       "3. 0.193429840237265\n",
       "4. 0.135188459514062\n",
       "\n",
       "\n"
      ],
      "text/plain": [
       "[1] 0.3730203 0.2983614 0.1934298 0.1351885"
      ]
     },
     "metadata": {},
     "output_type": "display_data"
    }
   ],
   "source": [
    "int_fun <- function(filename,lonlatname){\n",
    "    load(filename)\n",
    "    load(lonlatname) \n",
    "  intensity_name <- c(\"FD_1 Slight flash drought\",\"FD_2 Moderate flash drought\",\n",
    "                      \"FD_3 Severe flash drought\",\"FD_4 Extreme flash drought\")\n",
    "  \n",
    "  data1 <- rowSums(fd_class[,,1], na.rm = T)\n",
    "  data2 <- rowSums(fd_class[,,2], na.rm = T)\n",
    "  data3 <- rowSums(fd_class[,,3], na.rm = T)\n",
    "  data4 <- rowSums(fd_class[,,4], na.rm = T)\n",
    "  data5 <- data.frame(data1,data2,data3,data4)\n",
    "  data5$data6 <- rowSums(data5,na.rm = T)\n",
    "  sea=sum(data5$data6,na.rm = T)\n",
    "  \n",
    "  data <-fd_class[,,1]\n",
    "  occ_total_intensity = rowSums(data, na.rm = T)    #骤旱发生的数量\n",
    "  sea1=sum(occ_total_intensity,na.rm = T)/sea\n",
    "  \n",
    "  \n",
    "  data <- fd_class[,,2]\n",
    "  occ_total_intensity = rowSums(data, na.rm = T)    #骤旱发生的数量\n",
    "  sea2=sum(occ_total_intensity,na.rm = T)/sea\n",
    "  \n",
    "  \n",
    "  data <- fd_class[,,3]\n",
    "  occ_total_intensity = rowSums(data, na.rm = T)    #骤旱发生的数量\n",
    "  sea3=sum(occ_total_intensity,na.rm = T)/sea\n",
    "  \n",
    "  data <- fd_class[,,4]\n",
    "  occ_total_intensity = rowSums(data, na.rm = T)    #骤旱发生的数量\n",
    "  sea4=sum(occ_total_intensity,na.rm = T)/sea\n",
    "  \n",
    "  sea5=c(sea1,sea2,sea3,sea4)\n",
    "\n",
    "  return(sea5)\n",
    "}\n",
    "\n",
    "#ERA5-0.5\n",
    "filename=\"H:\\\\NO.1 flash drought\\\\03data\\\\ERA5\\\\2.fd_result\\\\fd_characteristics_detrend.RData\"\n",
    "lonlatname=\"H:\\\\NO.1 flash drought\\\\03data\\\\ERA5\\\\1.result\\\\grid_lon_lat.RData\"\n",
    "aa <- int_fun(filename,lonlatname)\n",
    "#ERA5-LAND-0.5\n",
    "filename=\"H:\\\\NO.1 flash drought\\\\03data\\\\ERA5\\\\1.result\\\\fd_characteristics_detrend.RData\"\n",
    "lonlatname=\"H:\\\\NO.1 flash drought\\\\03data\\\\ERA5\\\\1.result\\\\grid_lon_lat.RData\"\n",
    "bb <- int_fun(filename,lonlatname)\n",
    "# #GLEAM-0.5\n",
    "filename=\"H:\\\\NO.1 flash drought\\\\03data\\\\gleam_v3.5a\\\\6.GLEAM-0.5\\\\fd_characteristics_detrend.RData\"\n",
    "lonlatname=\"H:\\\\NO.1 flash drought\\\\03data\\\\ERA5\\\\1.result\\\\grid_lon_lat.RData\"\n",
    "cc <- int_fun(filename,lonlatname)\n",
    "\n",
    "aa\n",
    "bb\n",
    "cc"
   ]
  },
  {
   "cell_type": "code",
   "execution_count": 15,
   "metadata": {},
   "outputs": [
    {
     "data": {
      "text/html": [
       "0.450566553500855"
      ],
      "text/latex": [
       "0.450566553500855"
      ],
      "text/markdown": [
       "0.450566553500855"
      ],
      "text/plain": [
       "[1] 0.4505666"
      ]
     },
     "metadata": {},
     "output_type": "display_data"
    },
    {
     "data": {
      "text/html": [
       "0.288944277482334"
      ],
      "text/latex": [
       "0.288944277482334"
      ],
      "text/markdown": [
       "0.288944277482334"
      ],
      "text/plain": [
       "[1] 0.2889443"
      ]
     },
     "metadata": {},
     "output_type": "display_data"
    },
    {
     "data": {
      "text/html": [
       "0.160081072863259"
      ],
      "text/latex": [
       "0.160081072863259"
      ],
      "text/markdown": [
       "0.160081072863259"
      ],
      "text/plain": [
       "[1] 0.1600811"
      ]
     },
     "metadata": {},
     "output_type": "display_data"
    },
    {
     "data": {
      "text/html": [
       "0.100408096153553"
      ],
      "text/latex": [
       "0.100408096153553"
      ],
      "text/markdown": [
       "0.100408096153553"
      ],
      "text/plain": [
       "[1] 0.1004081"
      ]
     },
     "metadata": {},
     "output_type": "display_data"
    }
   ],
   "source": [
    "i=1\n",
    "(aa[i]+bb[i]+cc[i])/3\n",
    "i=2\n",
    "(aa[i]+bb[i]+cc[i])/3\n",
    "i=3\n",
    "(aa[i]+bb[i]+cc[i])/3\n",
    "i=4\n",
    "(aa[i]+bb[i]+cc[i])/3"
   ]
  },
  {
   "cell_type": "markdown",
   "metadata": {},
   "source": [
    "8.计算骤旱的平均持续时间（分区）"
   ]
  },
  {
   "cell_type": "code",
   "execution_count": 21,
   "metadata": {},
   "outputs": [
    {
     "data": {
      "text/html": [
       "36.073769466254"
      ],
      "text/latex": [
       "36.073769466254"
      ],
      "text/markdown": [
       "36.073769466254"
      ],
      "text/plain": [
       "[1] 36.07377"
      ]
     },
     "metadata": {},
     "output_type": "display_data"
    },
    {
     "data": {
      "text/html": [
       "<ol>\n",
       "\t<li>'WUS'</li>\n",
       "\t<li>7.14031024373937</li>\n",
       "\t<li>35.7015512186968</li>\n",
       "</ol>\n"
      ],
      "text/latex": [
       "\\begin{enumerate}\n",
       "\\item 'WUS'\n",
       "\\item 7.14031024373937\n",
       "\\item 35.7015512186968\n",
       "\\end{enumerate}\n"
      ],
      "text/markdown": [
       "1. 'WUS'\n",
       "2. 7.14031024373937\n",
       "3. 35.7015512186968\n",
       "\n",
       "\n"
      ],
      "text/plain": [
       "[[1]]\n",
       "[1] \"WUS\"\n",
       "\n",
       "[[2]]\n",
       "[1] 7.14031\n",
       "\n",
       "[[3]]\n",
       "[1] 35.70155\n"
      ]
     },
     "metadata": {},
     "output_type": "display_data"
    },
    {
     "data": {
      "text/html": [
       "<ol>\n",
       "\t<li>'MXO'</li>\n",
       "\t<li>7.45200843205639</li>\n",
       "\t<li>37.2600421602819</li>\n",
       "</ol>\n"
      ],
      "text/latex": [
       "\\begin{enumerate}\n",
       "\\item 'MXO'\n",
       "\\item 7.45200843205639\n",
       "\\item 37.2600421602819\n",
       "\\end{enumerate}\n"
      ],
      "text/markdown": [
       "1. 'MXO'\n",
       "2. 7.45200843205639\n",
       "3. 37.2600421602819\n",
       "\n",
       "\n"
      ],
      "text/plain": [
       "[[1]]\n",
       "[1] \"MXO\"\n",
       "\n",
       "[[2]]\n",
       "[1] 7.452008\n",
       "\n",
       "[[3]]\n",
       "[1] 37.26004\n"
      ]
     },
     "metadata": {},
     "output_type": "display_data"
    },
    {
     "data": {
      "text/html": [
       "<ol>\n",
       "\t<li>'EBZ'</li>\n",
       "\t<li>7.52895958553817</li>\n",
       "\t<li>37.6447979276908</li>\n",
       "</ol>\n"
      ],
      "text/latex": [
       "\\begin{enumerate}\n",
       "\\item 'EBZ'\n",
       "\\item 7.52895958553817\n",
       "\\item 37.6447979276908\n",
       "\\end{enumerate}\n"
      ],
      "text/markdown": [
       "1. 'EBZ'\n",
       "2. 7.52895958553817\n",
       "3. 37.6447979276908\n",
       "\n",
       "\n"
      ],
      "text/plain": [
       "[[1]]\n",
       "[1] \"EBZ\"\n",
       "\n",
       "[[2]]\n",
       "[1] 7.52896\n",
       "\n",
       "[[3]]\n",
       "[1] 37.6448\n"
      ]
     },
     "metadata": {},
     "output_type": "display_data"
    },
    {
     "data": {
      "text/html": [
       "<ol>\n",
       "\t<li>'ATD'</li>\n",
       "\t<li>7.50426080662849</li>\n",
       "\t<li>37.5213040331424</li>\n",
       "</ol>\n"
      ],
      "text/latex": [
       "\\begin{enumerate}\n",
       "\\item 'ATD'\n",
       "\\item 7.50426080662849\n",
       "\\item 37.5213040331424\n",
       "\\end{enumerate}\n"
      ],
      "text/markdown": [
       "1. 'ATD'\n",
       "2. 7.50426080662849\n",
       "3. 37.5213040331424\n",
       "\n",
       "\n"
      ],
      "text/plain": [
       "[[1]]\n",
       "[1] \"ATD\"\n",
       "\n",
       "[[2]]\n",
       "[1] 7.504261\n",
       "\n",
       "[[3]]\n",
       "[1] 37.5213\n"
      ]
     },
     "metadata": {},
     "output_type": "display_data"
    },
    {
     "data": {
      "text/html": [
       "<ol>\n",
       "\t<li>'SPN'</li>\n",
       "\t<li>7.19184100538875</li>\n",
       "\t<li>35.9592050269438</li>\n",
       "</ol>\n"
      ],
      "text/latex": [
       "\\begin{enumerate}\n",
       "\\item 'SPN'\n",
       "\\item 7.19184100538875\n",
       "\\item 35.9592050269438\n",
       "\\end{enumerate}\n"
      ],
      "text/markdown": [
       "1. 'SPN'\n",
       "2. 7.19184100538875\n",
       "3. 35.9592050269438\n",
       "\n",
       "\n"
      ],
      "text/plain": [
       "[[1]]\n",
       "[1] \"SPN\"\n",
       "\n",
       "[[2]]\n",
       "[1] 7.191841\n",
       "\n",
       "[[3]]\n",
       "[1] 35.95921\n"
      ]
     },
     "metadata": {},
     "output_type": "display_data"
    },
    {
     "data": {
      "text/html": [
       "<ol>\n",
       "\t<li>'SAR'</li>\n",
       "\t<li>8.1492691447565</li>\n",
       "\t<li>40.7463457237825</li>\n",
       "</ol>\n"
      ],
      "text/latex": [
       "\\begin{enumerate}\n",
       "\\item 'SAR'\n",
       "\\item 8.1492691447565\n",
       "\\item 40.7463457237825\n",
       "\\end{enumerate}\n"
      ],
      "text/markdown": [
       "1. 'SAR'\n",
       "2. 8.1492691447565\n",
       "3. 40.7463457237825\n",
       "\n",
       "\n"
      ],
      "text/plain": [
       "[[1]]\n",
       "[1] \"SAR\"\n",
       "\n",
       "[[2]]\n",
       "[1] 8.149269\n",
       "\n",
       "[[3]]\n",
       "[1] 40.74635\n"
      ]
     },
     "metadata": {},
     "output_type": "display_data"
    },
    {
     "data": {
      "text/html": [
       "<ol>\n",
       "\t<li>'GRV'</li>\n",
       "\t<li>7.37487185634683</li>\n",
       "\t<li>36.8743592817341</li>\n",
       "</ol>\n"
      ],
      "text/latex": [
       "\\begin{enumerate}\n",
       "\\item 'GRV'\n",
       "\\item 7.37487185634683\n",
       "\\item 36.8743592817341\n",
       "\\end{enumerate}\n"
      ],
      "text/markdown": [
       "1. 'GRV'\n",
       "2. 7.37487185634683\n",
       "3. 36.8743592817341\n",
       "\n",
       "\n"
      ],
      "text/plain": [
       "[[1]]\n",
       "[1] \"GRV\"\n",
       "\n",
       "[[2]]\n",
       "[1] 7.374872\n",
       "\n",
       "[[3]]\n",
       "[1] 36.87436\n"
      ]
     },
     "metadata": {},
     "output_type": "display_data"
    },
    {
     "data": {
      "text/html": [
       "<ol>\n",
       "\t<li>'SAF'</li>\n",
       "\t<li>7.81467240821521</li>\n",
       "\t<li>39.0733620410761</li>\n",
       "</ol>\n"
      ],
      "text/latex": [
       "\\begin{enumerate}\n",
       "\\item 'SAF'\n",
       "\\item 7.81467240821521\n",
       "\\item 39.0733620410761\n",
       "\\end{enumerate}\n"
      ],
      "text/markdown": [
       "1. 'SAF'\n",
       "2. 7.81467240821521\n",
       "3. 39.0733620410761\n",
       "\n",
       "\n"
      ],
      "text/plain": [
       "[[1]]\n",
       "[1] \"SAF\"\n",
       "\n",
       "[[2]]\n",
       "[1] 7.814672\n",
       "\n",
       "[[3]]\n",
       "[1] 39.07336\n"
      ]
     },
     "metadata": {},
     "output_type": "display_data"
    },
    {
     "data": {
      "text/html": [
       "<ol>\n",
       "\t<li>'MDE'</li>\n",
       "\t<li>7.90985902184725</li>\n",
       "\t<li>39.5492951092363</li>\n",
       "</ol>\n"
      ],
      "text/latex": [
       "\\begin{enumerate}\n",
       "\\item 'MDE'\n",
       "\\item 7.90985902184725\n",
       "\\item 39.5492951092363\n",
       "\\end{enumerate}\n"
      ],
      "text/markdown": [
       "1. 'MDE'\n",
       "2. 7.90985902184725\n",
       "3. 39.5492951092363\n",
       "\n",
       "\n"
      ],
      "text/plain": [
       "[[1]]\n",
       "[1] \"MDE\"\n",
       "\n",
       "[[2]]\n",
       "[1] 7.909859\n",
       "\n",
       "[[3]]\n",
       "[1] 39.5493\n"
      ]
     },
     "metadata": {},
     "output_type": "display_data"
    },
    {
     "data": {
      "text/html": [
       "<ol>\n",
       "\t<li>'WCN'</li>\n",
       "\t<li>7.6517248004328</li>\n",
       "\t<li>38.258624002164</li>\n",
       "</ol>\n"
      ],
      "text/latex": [
       "\\begin{enumerate}\n",
       "\\item 'WCN'\n",
       "\\item 7.6517248004328\n",
       "\\item 38.258624002164\n",
       "\\end{enumerate}\n"
      ],
      "text/markdown": [
       "1. 'WCN'\n",
       "2. 7.6517248004328\n",
       "3. 38.258624002164\n",
       "\n",
       "\n"
      ],
      "text/plain": [
       "[[1]]\n",
       "[1] \"WCN\"\n",
       "\n",
       "[[2]]\n",
       "[1] 7.651725\n",
       "\n",
       "[[3]]\n",
       "[1] 38.25862\n"
      ]
     },
     "metadata": {},
     "output_type": "display_data"
    },
    {
     "data": {
      "text/html": [
       "<ol>\n",
       "\t<li>'IND'</li>\n",
       "\t<li>7.54854070201775</li>\n",
       "\t<li>37.7427035100887</li>\n",
       "</ol>\n"
      ],
      "text/latex": [
       "\\begin{enumerate}\n",
       "\\item 'IND'\n",
       "\\item 7.54854070201775\n",
       "\\item 37.7427035100887\n",
       "\\end{enumerate}\n"
      ],
      "text/markdown": [
       "1. 'IND'\n",
       "2. 7.54854070201775\n",
       "3. 37.7427035100887\n",
       "\n",
       "\n"
      ],
      "text/plain": [
       "[[1]]\n",
       "[1] \"IND\"\n",
       "\n",
       "[[2]]\n",
       "[1] 7.548541\n",
       "\n",
       "[[3]]\n",
       "[1] 37.7427\n"
      ]
     },
     "metadata": {},
     "output_type": "display_data"
    },
    {
     "data": {
      "text/html": [
       "<ol>\n",
       "\t<li>'NAT'</li>\n",
       "\t<li>7.23613303763657</li>\n",
       "\t<li>36.1806651881828</li>\n",
       "</ol>\n"
      ],
      "text/latex": [
       "\\begin{enumerate}\n",
       "\\item 'NAT'\n",
       "\\item 7.23613303763657\n",
       "\\item 36.1806651881828\n",
       "\\end{enumerate}\n"
      ],
      "text/markdown": [
       "1. 'NAT'\n",
       "2. 7.23613303763657\n",
       "3. 36.1806651881828\n",
       "\n",
       "\n"
      ],
      "text/plain": [
       "[[1]]\n",
       "[1] \"NAT\"\n",
       "\n",
       "[[2]]\n",
       "[1] 7.236133\n",
       "\n",
       "[[3]]\n",
       "[1] 36.18067\n"
      ]
     },
     "metadata": {},
     "output_type": "display_data"
    }
   ],
   "source": [
    "file_name= \"H:\\\\NO.1 flash drought\\\\03data\\\\data_GEE5\\\\fd_characteristics_detrend.RData\"\n",
    "lonlat_name=\"H:\\\\NO.1 flash drought\\\\03data\\\\ERA5\\\\1.result\\\\grid_lon_lat.RData\"\n",
    "load(file_name)\n",
    "load(lonlat_name)\n",
    "\n",
    "occ_dur = rowMeans(occ_ave_dur, na.rm = T)    #骤旱的持续时间\n",
    "#to_raster(occ_dur  ,  filename = \"occ_dur_Christian\")\n",
    "dat = data.frame(x=grid2$lon, y=grid2$lat, z=occ_dur)#[(720*5*18+1):(720*5*19)]\n",
    "names(dat)=c(\"lon\",\"lat\",\"occ_dur\")\n",
    "data <- na.omit(dat)\n",
    "\n",
    "mean(data$occ_dur)*5\n",
    "\n",
    "region_name <- c(\"WUS\",\"MXO\",\"EBZ\",\"ATD\",\"SPN\",\"SAR\",\"GRV\",\"SAF\",\"MDE\",\"WCN\",\"IND\",\"NAT\")\n",
    "frequency_change <- function(ymin,ymax,xmin,xmax,j){\n",
    "dat<-data[data$lon>(xmin) & data$lon<(xmax) & data$lat>(ymin) & data$lat<(ymax),]#筛选区域格点\n",
    "duration_mean <- mean(dat$occ_dur)\n",
    "duration_day <- mean(dat$occ_dur)*5\n",
    "regionname <- region_name[j]\n",
    "return(list(regionname,duration_mean,duration_day))\n",
    "}\n",
    "\n",
    "frequency_change(ymin=31.5,ymax =41.5 ,xmin =-123.9 ,xmax =-96.1,1 )\n",
    "frequency_change(ymin=16.7,ymax =26 ,xmin =-106.5 ,xmax =-96.5 ,2)\n",
    "frequency_change(ymin=-22.4,ymax =-3.8 ,xmin =-48 ,xmax =-34.9 ,3)\n",
    "frequency_change(ymin=-30.1,ymax =-13.9 ,xmin =-75.2 ,xmax =-65.5 ,4)\n",
    "frequency_change(ymin=36.1,ymax =44.6 ,xmin =-8.6 ,xmax =-0.8 ,5)\n",
    "frequency_change(ymin=17.5,ymax =34.5 ,xmin =-17.2 ,xmax =32.7,6)\n",
    "frequency_change(ymin=-7.6,ymax =10.8 ,xmin =30.5 ,xmax =42.1 ,7)\n",
    "frequency_change(ymin=-20.5,ymax =-13.8 ,xmin =11.6 ,xmax =35.9,8 )\n",
    "frequency_change(ymin=12.3,ymax =37.1 ,xmin =36 ,xmax =68.1 ,9)\n",
    "frequency_change(ymin=27.5,ymax =40.7 ,xmin =77.4 ,xmax =101,10 )\n",
    "frequency_change(ymin=6.5,ymax =26.1 ,xmin =71.7 ,xmax =88.1 ,11)\n",
    "frequency_change(ymin=-19.3,ymax =-10.8 ,xmin =127.3 ,xmax =145.5 ,12)\n"
   ]
  },
  {
   "cell_type": "markdown",
   "metadata": {},
   "source": [
    "8.1不同的季节和强度的持续时间"
   ]
  },
  {
   "cell_type": "code",
   "execution_count": 33,
   "metadata": {},
   "outputs": [],
   "source": [
    "data_set <- c(\"ERA5\",\"GLEAM\",\"ERA5-LAND\")\n",
    "intensity<- c(\"FD_1\",\"FD_2\",\n",
    "                    \"FD_3\",\"FD_4\")\n",
    "season <- c(\"DJF\",\"MAM\",\"JJA\",\"SON\")\n",
    "sea_mon <- function(file_name,i){\n",
    "#month_occ(file_name)\n",
    "load(file_name)\n",
    "data <- data_fd_total\n",
    "\n",
    "I1 <- data[data$fd_intensity==\"1\",]\n",
    "I2 <- data[data$fd_intensity==\"2\",]\n",
    "I3 <- data[data$fd_intensity==\"3\",]\n",
    "I4 <- data[data$fd_intensity==\"4\",]\n",
    "\n",
    "DI <- c(mean(I1$fd_length)*5,mean(I2$fd_length)*5,mean(I3$fd_length)*5,mean(I4$fd_length)*5)\n",
    "\n",
    "#season_fun <- function(data,j){\n",
    "#data <- I2\n",
    "aa <- data[data$month==\"12\"|data$month==\"01\"|data$month==\"02\",] #冬\n",
    "bb <- data[data$month==\"03\"|data$month==\"04\"|data$month==\"05\",] #春\n",
    "cc <- data[data$month==\"06\"|data$month==\"07\"|data$month==\"08\",] #夏\n",
    "dd <- data[data$month==\"09\"|data$month==\"10\"|data$month==\"11\",] #秋\n",
    "\n",
    "DS <-c(mean(aa$fd_length)*5,mean(bb$fd_length)*5,mean(cc$fd_length)*5,mean(dd$fd_length)*5)\n",
    "\n",
    "data_duration1 <- data.frame(intensity,DI)\n",
    "data_duration1$KIND <- \"intensity\"\n",
    "\n",
    "data_duration2 <- data.frame(season,DS)\n",
    "data_duration2$KIND <- \"season\"\n",
    "names(data_duration2) <- names(data_duration1)\n",
    "\n",
    "data_duration <- rbind(data_duration1,data_duration2)\n",
    "return(data_duration)\n",
    "}\n",
    "file_name1 <- \"H:\\\\NO.1 flash drought\\\\03data\\\\ERA5\\\\2.fd_result\\\\data_fd_total1.RData\"\n",
    "file_name2 <- \"H:\\\\NO.1 flash drought\\\\03data\\\\gleam_v3.5a\\\\6.GLEAM-0.5\\\\data_fd_total1.RData\"\n",
    "file_name3 <-\"H:\\\\NO.1 flash drought\\\\03data\\\\ERA5\\\\1.result\\\\data_fd_total1.RData\"\n",
    "data_set <- c(\"ERA5\",\"GLEAM\",\"ERA5-LAND\")\n",
    "\n",
    "data1 <- sea_mon(file_name1,1)\n",
    "data2 <- sea_mon(file_name2,2)\n",
    "data3 <- sea_mon(file_name3,3)\n",
    "data <- rbind(data1,data2,data3)\n",
    "data$SET <- rep(c(\"ERA5\",\"GLEAM\",\"ERA5-LAND\"),each=8)\n",
    "names(data) <- c(\"kind\",\"duration\",\"KIND\",\"Data_Set\")\n",
    "data1=data\n",
    "# data <- (data2$DI-data1$DI)*100/data1$DI\n",
    "# data <- (data2$DI-data3$DI)*100/data3$DI"
   ]
  },
  {
   "cell_type": "code",
   "execution_count": 47,
   "metadata": {},
   "outputs": [
    {
     "data": {
      "text/html": [
       "<table class=\"dataframe\">\n",
       "<caption>A data.frame: 24 × 4</caption>\n",
       "<thead>\n",
       "\t<tr><th scope=col>kind</th><th scope=col>duration</th><th scope=col>KIND</th><th scope=col>Data_Set</th></tr>\n",
       "\t<tr><th scope=col>&lt;chr&gt;</th><th scope=col>&lt;dbl&gt;</th><th scope=col>&lt;chr&gt;</th><th scope=col>&lt;chr&gt;</th></tr>\n",
       "</thead>\n",
       "<tbody>\n",
       "\t<tr><td>FD_1</td><td>35.58158</td><td>intensity</td><td>ERA5     </td></tr>\n",
       "\t<tr><td>FD_2</td><td>35.39823</td><td>intensity</td><td>ERA5     </td></tr>\n",
       "\t<tr><td>FD_3</td><td>35.66042</td><td>intensity</td><td>ERA5     </td></tr>\n",
       "\t<tr><td>FD_4</td><td>36.37213</td><td>intensity</td><td>ERA5     </td></tr>\n",
       "\t<tr><td>DJF </td><td>35.69773</td><td>season   </td><td>ERA5     </td></tr>\n",
       "\t<tr><td>MAM </td><td>34.88210</td><td>season   </td><td>ERA5     </td></tr>\n",
       "\t<tr><td>JJA </td><td>34.97387</td><td>season   </td><td>ERA5     </td></tr>\n",
       "\t<tr><td>SON </td><td>36.78943</td><td>season   </td><td>ERA5     </td></tr>\n",
       "\t<tr><td>FD_1</td><td>40.72309</td><td>intensity</td><td>GLEAM    </td></tr>\n",
       "\t<tr><td>FD_2</td><td>40.47642</td><td>intensity</td><td>GLEAM    </td></tr>\n",
       "\t<tr><td>FD_3</td><td>40.66561</td><td>intensity</td><td>GLEAM    </td></tr>\n",
       "\t<tr><td>FD_4</td><td>42.53561</td><td>intensity</td><td>GLEAM    </td></tr>\n",
       "\t<tr><td>DJF </td><td>40.10936</td><td>season   </td><td>GLEAM    </td></tr>\n",
       "\t<tr><td>MAM </td><td>41.42920</td><td>season   </td><td>GLEAM    </td></tr>\n",
       "\t<tr><td>JJA </td><td>40.82230</td><td>season   </td><td>GLEAM    </td></tr>\n",
       "\t<tr><td>SON </td><td>41.15084</td><td>season   </td><td>GLEAM    </td></tr>\n",
       "\t<tr><td>FD_1</td><td>35.64908</td><td>intensity</td><td>ERA5-LAND</td></tr>\n",
       "\t<tr><td>FD_2</td><td>35.19206</td><td>intensity</td><td>ERA5-LAND</td></tr>\n",
       "\t<tr><td>FD_3</td><td>35.02741</td><td>intensity</td><td>ERA5-LAND</td></tr>\n",
       "\t<tr><td>FD_4</td><td>35.40518</td><td>intensity</td><td>ERA5-LAND</td></tr>\n",
       "\t<tr><td>DJF </td><td>35.68267</td><td>season   </td><td>ERA5-LAND</td></tr>\n",
       "\t<tr><td>MAM </td><td>35.01683</td><td>season   </td><td>ERA5-LAND</td></tr>\n",
       "\t<tr><td>JJA </td><td>35.35346</td><td>season   </td><td>ERA5-LAND</td></tr>\n",
       "\t<tr><td>SON </td><td>35.57368</td><td>season   </td><td>ERA5-LAND</td></tr>\n",
       "</tbody>\n",
       "</table>\n"
      ],
      "text/latex": [
       "A data.frame: 24 × 4\n",
       "\\begin{tabular}{llll}\n",
       " kind & duration & KIND & Data\\_Set\\\\\n",
       " <chr> & <dbl> & <chr> & <chr>\\\\\n",
       "\\hline\n",
       "\t FD\\_1 & 35.58158 & intensity & ERA5     \\\\\n",
       "\t FD\\_2 & 35.39823 & intensity & ERA5     \\\\\n",
       "\t FD\\_3 & 35.66042 & intensity & ERA5     \\\\\n",
       "\t FD\\_4 & 36.37213 & intensity & ERA5     \\\\\n",
       "\t DJF  & 35.69773 & season    & ERA5     \\\\\n",
       "\t MAM  & 34.88210 & season    & ERA5     \\\\\n",
       "\t JJA  & 34.97387 & season    & ERA5     \\\\\n",
       "\t SON  & 36.78943 & season    & ERA5     \\\\\n",
       "\t FD\\_1 & 40.72309 & intensity & GLEAM    \\\\\n",
       "\t FD\\_2 & 40.47642 & intensity & GLEAM    \\\\\n",
       "\t FD\\_3 & 40.66561 & intensity & GLEAM    \\\\\n",
       "\t FD\\_4 & 42.53561 & intensity & GLEAM    \\\\\n",
       "\t DJF  & 40.10936 & season    & GLEAM    \\\\\n",
       "\t MAM  & 41.42920 & season    & GLEAM    \\\\\n",
       "\t JJA  & 40.82230 & season    & GLEAM    \\\\\n",
       "\t SON  & 41.15084 & season    & GLEAM    \\\\\n",
       "\t FD\\_1 & 35.64908 & intensity & ERA5-LAND\\\\\n",
       "\t FD\\_2 & 35.19206 & intensity & ERA5-LAND\\\\\n",
       "\t FD\\_3 & 35.02741 & intensity & ERA5-LAND\\\\\n",
       "\t FD\\_4 & 35.40518 & intensity & ERA5-LAND\\\\\n",
       "\t DJF  & 35.68267 & season    & ERA5-LAND\\\\\n",
       "\t MAM  & 35.01683 & season    & ERA5-LAND\\\\\n",
       "\t JJA  & 35.35346 & season    & ERA5-LAND\\\\\n",
       "\t SON  & 35.57368 & season    & ERA5-LAND\\\\\n",
       "\\end{tabular}\n"
      ],
      "text/markdown": [
       "\n",
       "A data.frame: 24 × 4\n",
       "\n",
       "| kind &lt;chr&gt; | duration &lt;dbl&gt; | KIND &lt;chr&gt; | Data_Set &lt;chr&gt; |\n",
       "|---|---|---|---|\n",
       "| FD_1 | 35.58158 | intensity | ERA5      |\n",
       "| FD_2 | 35.39823 | intensity | ERA5      |\n",
       "| FD_3 | 35.66042 | intensity | ERA5      |\n",
       "| FD_4 | 36.37213 | intensity | ERA5      |\n",
       "| DJF  | 35.69773 | season    | ERA5      |\n",
       "| MAM  | 34.88210 | season    | ERA5      |\n",
       "| JJA  | 34.97387 | season    | ERA5      |\n",
       "| SON  | 36.78943 | season    | ERA5      |\n",
       "| FD_1 | 40.72309 | intensity | GLEAM     |\n",
       "| FD_2 | 40.47642 | intensity | GLEAM     |\n",
       "| FD_3 | 40.66561 | intensity | GLEAM     |\n",
       "| FD_4 | 42.53561 | intensity | GLEAM     |\n",
       "| DJF  | 40.10936 | season    | GLEAM     |\n",
       "| MAM  | 41.42920 | season    | GLEAM     |\n",
       "| JJA  | 40.82230 | season    | GLEAM     |\n",
       "| SON  | 41.15084 | season    | GLEAM     |\n",
       "| FD_1 | 35.64908 | intensity | ERA5-LAND |\n",
       "| FD_2 | 35.19206 | intensity | ERA5-LAND |\n",
       "| FD_3 | 35.02741 | intensity | ERA5-LAND |\n",
       "| FD_4 | 35.40518 | intensity | ERA5-LAND |\n",
       "| DJF  | 35.68267 | season    | ERA5-LAND |\n",
       "| MAM  | 35.01683 | season    | ERA5-LAND |\n",
       "| JJA  | 35.35346 | season    | ERA5-LAND |\n",
       "| SON  | 35.57368 | season    | ERA5-LAND |\n",
       "\n"
      ],
      "text/plain": [
       "   kind duration KIND      Data_Set \n",
       "1  FD_1 35.58158 intensity ERA5     \n",
       "2  FD_2 35.39823 intensity ERA5     \n",
       "3  FD_3 35.66042 intensity ERA5     \n",
       "4  FD_4 36.37213 intensity ERA5     \n",
       "5  DJF  35.69773 season    ERA5     \n",
       "6  MAM  34.88210 season    ERA5     \n",
       "7  JJA  34.97387 season    ERA5     \n",
       "8  SON  36.78943 season    ERA5     \n",
       "9  FD_1 40.72309 intensity GLEAM    \n",
       "10 FD_2 40.47642 intensity GLEAM    \n",
       "11 FD_3 40.66561 intensity GLEAM    \n",
       "12 FD_4 42.53561 intensity GLEAM    \n",
       "13 DJF  40.10936 season    GLEAM    \n",
       "14 MAM  41.42920 season    GLEAM    \n",
       "15 JJA  40.82230 season    GLEAM    \n",
       "16 SON  41.15084 season    GLEAM    \n",
       "17 FD_1 35.64908 intensity ERA5-LAND\n",
       "18 FD_2 35.19206 intensity ERA5-LAND\n",
       "19 FD_3 35.02741 intensity ERA5-LAND\n",
       "20 FD_4 35.40518 intensity ERA5-LAND\n",
       "21 DJF  35.68267 season    ERA5-LAND\n",
       "22 MAM  35.01683 season    ERA5-LAND\n",
       "23 JJA  35.35346 season    ERA5-LAND\n",
       "24 SON  35.57368 season    ERA5-LAND"
      ]
     },
     "metadata": {},
     "output_type": "display_data"
    }
   ],
   "source": [
    "data1"
   ]
  },
  {
   "cell_type": "code",
   "execution_count": 43,
   "metadata": {},
   "outputs": [
    {
     "data": {
      "image/png": "[encoded data removed]",
      "text/plain": [
       "plot without title"
      ]
     },
     "metadata": {
      "image/png": {
       "height": 420,
       "width": 420
      }
     },
     "output_type": "display_data"
    }
   ],
   "source": [
    "data=data1[which(data1$KIND==\"intensity\"),]\n",
    "order_pet <- with(data,reorder(kind,duration,median))  #重新排序\n",
    "order_pet <- factor(order_pet,levels =c(intensity))\n",
    "fontsize=13\n",
    "library(ggplot2)\n",
    "library(RColorBrewer)\n",
    "p1=ggplot(data,aes(x=order_pet,y=duration,fill=Data_Set))+###aes(fill=area),\n",
    "  #geom_boxplot(aes(fill=lat),notch = F,varwidth = F,outlier.shape = NA)+\n",
    "  geom_bar(position=\"dodge\",stat = \"identity\",colour=\"black\",width = 0.8)+\n",
    "  scale_fill_manual(values = c(brewer.pal(4,\"Set2\")[c(1,2,3,4)]))+\n",
    "  labs(y=\"Flash drought duration(day)\",x=\"Intensity\",family=\"serif\")+\n",
    "  coord_cartesian(ylim=c(30, 45))+\n",
    "  theme_bw()+ \n",
    "  scale_y_continuous(expand = c(0,0))+\n",
    "  guides(color=guide_legend(nrow=1, byrow=TRUE),size=(fontsize+4))+\n",
    "  #geom_hline(aes(yintercept = 0),linetype = 'dashed',alpha = 0.5,lwd = 0.5,color = 'black')+\n",
    "  #ggtitle(dname)+ \n",
    "  theme(legend.position =\"top\",\n",
    "        plot.title=element_text(hjust=0.5,size=fontsize),\n",
    "        axis.text = element_text(face='bold',colour='black',size=fontsize,hjust=.5,family=\"serif\"),\n",
    "        axis.title = element_text(face='bold',colour='black',size=fontsize,hjust=.5,family=\"serif\"),\n",
    "        #axis.title.x = element_blank(),\n",
    "        panel.grid.major=element_blank(),\n",
    "        panel.grid.minor=element_blank())\n",
    "        \n",
    "p1"
   ]
  },
  {
   "cell_type": "code",
   "execution_count": 44,
   "metadata": {},
   "outputs": [
    {
     "data": {
      "text/html": [
       "<strong>png:</strong> 2"
      ],
      "text/latex": [
       "\\textbf{png:} 2"
      ],
      "text/markdown": [
       "**png:** 2"
      ],
      "text/plain": [
       "png \n",
       "  2 "
      ]
     },
     "metadata": {},
     "output_type": "display_data"
    }
   ],
   "source": [
    "pic_name=paste0(\"H:\\\\NO.1 flash drought\\\\5.小论文-骤旱\\\\论文大修12.2\\\\picture\\\\8.duration_\")\n",
    "pdf(paste0(pic_name,\"bar_sea_int1.pdf\"),width = 8, height = 6)\n",
    "p1\n",
    "dev.off()"
   ]
  },
  {
   "cell_type": "code",
   "execution_count": 45,
   "metadata": {},
   "outputs": [
    {
     "data": {
      "image/png": "[encoded data removed]",
      "text/plain": [
       "plot without title"
      ]
     },
     "metadata": {
      "image/png": {
       "height": 420,
       "width": 420
      }
     },
     "output_type": "display_data"
    }
   ],
   "source": [
    "data=data1[which(data1$KIND==\"season\"),]\n",
    "order_pet <- with(data,reorder(kind,duration,median))  #重新排序\n",
    "order_pet <- factor(order_pet,levels =c(season))\n",
    "fontsize=13\n",
    "library(ggplot2)\n",
    "library(RColorBrewer)\n",
    "p2=ggplot(data,aes(x=order_pet,y=duration,fill=Data_Set))+###aes(fill=area),\n",
    "  #geom_boxplot(aes(fill=lat),notch = F,varwidth = F,outlier.shape = NA)+\n",
    "  geom_bar(position=\"dodge\",stat = \"identity\",colour=\"black\",width = 0.8)+\n",
    "  scale_fill_manual(values = c(brewer.pal(4,\"Set2\")[c(1,2,3,4)]))+\n",
    "  labs(y=\"Flash drought duration(day)\",x=\"SEASON\",family=\"serif\")+\n",
    "  coord_cartesian(ylim=c(30, 45))+\n",
    "  theme_bw()+ \n",
    "  scale_y_continuous(expand = c(0,0))+\n",
    "  guides(color=guide_legend(nrow=1, byrow=TRUE),size=(fontsize+4))+\n",
    "  #geom_hline(aes(yintercept = 0),linetype = 'dashed',alpha = 0.5,lwd = 0.5,color = 'black')+\n",
    "  #ggtitle(dname)+ \n",
    "  theme(legend.position =\"top\",\n",
    "        plot.title=element_text(hjust=0.5,size=fontsize),\n",
    "        axis.text = element_text(face='bold',colour='black',size=fontsize,hjust=.5,family=\"serif\"),\n",
    "        axis.title = element_text(face='bold',colour='black',size=fontsize,hjust=.5,family=\"serif\"),\n",
    "        #axis.title.x = element_blank(),\n",
    "        panel.grid.major=element_blank(),\n",
    "        panel.grid.minor=element_blank())\n",
    "p2"
   ]
  },
  {
   "cell_type": "code",
   "execution_count": 46,
   "metadata": {},
   "outputs": [
    {
     "data": {
      "text/html": [
       "<strong>png:</strong> 2"
      ],
      "text/latex": [
       "\\textbf{png:} 2"
      ],
      "text/markdown": [
       "**png:** 2"
      ],
      "text/plain": [
       "png \n",
       "  2 "
      ]
     },
     "metadata": {},
     "output_type": "display_data"
    }
   ],
   "source": [
    "pic_name=paste0(\"H:\\\\NO.1 flash drought\\\\5.小论文-骤旱\\\\论文大修12.2\\\\picture\\\\8.duration_\")\n",
    "pdf(paste0(pic_name,\"bar_sea_int2.pdf\"),width = 8, height = 6)\n",
    "p2\n",
    "dev.off()"
   ]
  },
  {
   "cell_type": "code",
   "execution_count": 71,
   "metadata": {},
   "outputs": [
    {
     "data": {
      "image/png": "[encoded data removed]",
      "text/plain": [
       "plot without title"
      ]
     },
     "metadata": {
      "image/png": {
       "height": 420,
       "width": 420
      }
     },
     "output_type": "display_data"
    }
   ],
   "source": [
    "data=data[which(data$KIND==\"intensity\"),]\n",
    "order_pet <- with(data,reorder(kind,duration,median))  #重新排序\n",
    "order_pet <- factor(order_pet,levels =c(c(intensity),c(season)))\n",
    "fontsize=13\n",
    "library(ggplot2)\n",
    "library(RColorBrewer)\n",
    "p=ggplot(data,aes(x=order_pet,y=duration,fill=Data_Set))+###aes(fill=area),\n",
    "  #geom_boxplot(aes(fill=lat),notch = F,varwidth = F,outlier.shape = NA)+\n",
    "  geom_bar(position=\"dodge\",stat = \"identity\",colour=\"black\",width = 0.8)+\n",
    "  scale_fill_manual(values = c(brewer.pal(4,\"Set2\")[c(1,2,3,4)]))+\n",
    "  labs(y=\"Flash drought duration(day)\",family=\"serif\")+\n",
    "  coord_cartesian(ylim=c(30, 45))+\n",
    "  theme_bw()+ \n",
    "  scale_y_continuous(expand = c(0,0))+\n",
    "  guides(color=guide_legend(nrow=1, byrow=TRUE),size=(fontsize+4))+\n",
    "  #geom_hline(aes(yintercept = 0),linetype = 'dashed',alpha = 0.5,lwd = 0.5,color = 'black')+\n",
    "  #ggtitle(dname)+ \n",
    "  theme(legend.position =\"top\",\n",
    "        plot.title=element_text(hjust=0.5,size=fontsize),\n",
    "        axis.text = element_text(face='bold',colour='black',size=fontsize,hjust=.5,family=\"serif\"),\n",
    "        axis.title = element_text(face='bold',colour='black',size=fontsize,hjust=.5,family=\"serif\"),\n",
    "        axis.title.x = element_blank(),\n",
    "        panel.grid.major=element_blank(),\n",
    "        panel.grid.minor=element_blank())\n",
    "p"
   ]
  },
  {
   "cell_type": "code",
   "execution_count": 73,
   "metadata": {},
   "outputs": [
    {
     "data": {
      "text/html": [
       "<strong>png:</strong> 2"
      ],
      "text/latex": [
       "\\textbf{png:} 2"
      ],
      "text/markdown": [
       "**png:** 2"
      ],
      "text/plain": [
       "png \n",
       "  2 "
      ]
     },
     "metadata": {},
     "output_type": "display_data"
    }
   ],
   "source": [
    "pic_name=paste0(\"H:\\\\NO.1 flash drought\\\\5.小论文-骤旱\\\\论文大修12.2\\\\picture\\\\8.duration_\")\n",
    "pdf(paste0(pic_name,\"bar_sea_int.pdf\"),width = 8, height = 6)\n",
    "p\n",
    "dev.off()"
   ]
  },
  {
   "cell_type": "markdown",
   "metadata": {},
   "source": [
    "9.计算骤旱的季节和月份分配情况"
   ]
  },
  {
   "cell_type": "code",
   "execution_count": 1,
   "metadata": {},
   "outputs": [
    {
     "data": {
      "text/html": [
       "<table class=\"dataframe\">\n",
       "<caption>A data.frame: 12 × 4</caption>\n",
       "<thead>\n",
       "\t<tr><th scope=col>season</th><th scope=col>fd_season</th><th scope=col>data_per</th><th scope=col>SET</th></tr>\n",
       "\t<tr><th scope=col>&lt;chr&gt;</th><th scope=col>&lt;int&gt;</th><th scope=col>&lt;dbl&gt;</th><th scope=col>&lt;chr&gt;</th></tr>\n",
       "</thead>\n",
       "<tbody>\n",
       "\t<tr><td>DJF</td><td>64903</td><td>26.99814</td><td>ERA5     </td></tr>\n",
       "\t<tr><td>SON</td><td>61536</td><td>25.59755</td><td>ERA5     </td></tr>\n",
       "\t<tr><td>JJA</td><td>53004</td><td>22.04844</td><td>ERA5     </td></tr>\n",
       "\t<tr><td>MAM</td><td>60955</td><td>25.35587</td><td>ERA5     </td></tr>\n",
       "\t<tr><td>DJF</td><td>81015</td><td>25.53399</td><td>GLEAM    </td></tr>\n",
       "\t<tr><td>SON</td><td>84911</td><td>26.76191</td><td>GLEAM    </td></tr>\n",
       "\t<tr><td>JJA</td><td>73392</td><td>23.13140</td><td>GLEAM    </td></tr>\n",
       "\t<tr><td>MAM</td><td>77965</td><td>24.57270</td><td>GLEAM    </td></tr>\n",
       "\t<tr><td>DJF</td><td>59231</td><td>26.19357</td><td>ERA5-LAND</td></tr>\n",
       "\t<tr><td>SON</td><td>58833</td><td>26.01757</td><td>ERA5-LAND</td></tr>\n",
       "\t<tr><td>JJA</td><td>49355</td><td>21.82613</td><td>ERA5-LAND</td></tr>\n",
       "\t<tr><td>MAM</td><td>58709</td><td>25.96273</td><td>ERA5-LAND</td></tr>\n",
       "</tbody>\n",
       "</table>\n"
      ],
      "text/latex": [
       "A data.frame: 12 × 4\n",
       "\\begin{tabular}{llll}\n",
       " season & fd\\_season & data\\_per & SET\\\\\n",
       " <chr> & <int> & <dbl> & <chr>\\\\\n",
       "\\hline\n",
       "\t DJF & 64903 & 26.99814 & ERA5     \\\\\n",
       "\t SON & 61536 & 25.59755 & ERA5     \\\\\n",
       "\t JJA & 53004 & 22.04844 & ERA5     \\\\\n",
       "\t MAM & 60955 & 25.35587 & ERA5     \\\\\n",
       "\t DJF & 81015 & 25.53399 & GLEAM    \\\\\n",
       "\t SON & 84911 & 26.76191 & GLEAM    \\\\\n",
       "\t JJA & 73392 & 23.13140 & GLEAM    \\\\\n",
       "\t MAM & 77965 & 24.57270 & GLEAM    \\\\\n",
       "\t DJF & 59231 & 26.19357 & ERA5-LAND\\\\\n",
       "\t SON & 58833 & 26.01757 & ERA5-LAND\\\\\n",
       "\t JJA & 49355 & 21.82613 & ERA5-LAND\\\\\n",
       "\t MAM & 58709 & 25.96273 & ERA5-LAND\\\\\n",
       "\\end{tabular}\n"
      ],
      "text/markdown": [
       "\n",
       "A data.frame: 12 × 4\n",
       "\n",
       "| season &lt;chr&gt; | fd_season &lt;int&gt; | data_per &lt;dbl&gt; | SET &lt;chr&gt; |\n",
       "|---|---|---|---|\n",
       "| DJF | 64903 | 26.99814 | ERA5      |\n",
       "| SON | 61536 | 25.59755 | ERA5      |\n",
       "| JJA | 53004 | 22.04844 | ERA5      |\n",
       "| MAM | 60955 | 25.35587 | ERA5      |\n",
       "| DJF | 81015 | 25.53399 | GLEAM     |\n",
       "| SON | 84911 | 26.76191 | GLEAM     |\n",
       "| JJA | 73392 | 23.13140 | GLEAM     |\n",
       "| MAM | 77965 | 24.57270 | GLEAM     |\n",
       "| DJF | 59231 | 26.19357 | ERA5-LAND |\n",
       "| SON | 58833 | 26.01757 | ERA5-LAND |\n",
       "| JJA | 49355 | 21.82613 | ERA5-LAND |\n",
       "| MAM | 58709 | 25.96273 | ERA5-LAND |\n",
       "\n"
      ],
      "text/plain": [
       "   season fd_season data_per SET      \n",
       "1  DJF    64903     26.99814 ERA5     \n",
       "2  SON    61536     25.59755 ERA5     \n",
       "3  JJA    53004     22.04844 ERA5     \n",
       "4  MAM    60955     25.35587 ERA5     \n",
       "5  DJF    81015     25.53399 GLEAM    \n",
       "6  SON    84911     26.76191 GLEAM    \n",
       "7  JJA    73392     23.13140 GLEAM    \n",
       "8  MAM    77965     24.57270 GLEAM    \n",
       "9  DJF    59231     26.19357 ERA5-LAND\n",
       "10 SON    58833     26.01757 ERA5-LAND\n",
       "11 JJA    49355     21.82613 ERA5-LAND\n",
       "12 MAM    58709     25.96273 ERA5-LAND"
      ]
     },
     "metadata": {},
     "output_type": "display_data"
    }
   ],
   "source": [
    "\n",
    "data_set <- c(\"ERA5\",\"GLEAM\",\"ERA5-LAND\")\n",
    "sea_mon <- function(file_name,i){\n",
    "#month_occ(file_name)\n",
    "load(file_name)\n",
    "data <- data_fd_total\n",
    "aa <- data[data$month==\"12\"|data$month==\"01\"|data$month==\"02\",] #冬\n",
    "bb <- data[data$month==\"03\"|data$month==\"04\"|data$month==\"05\",] #春\n",
    "cc <- data[data$month==\"06\"|data$month==\"07\"|data$month==\"08\",] #夏\n",
    "dd <- data[data$month==\"09\"|data$month==\"10\"|data$month==\"11\",] #秋\n",
    "\n",
    "aa1 <- data[data$month==\"01\",] \n",
    "aa2 <- data[data$month==\"02\",] \n",
    "aa3 <- data[data$month==\"03\",] \n",
    "aa4 <- data[data$month==\"04\",] \n",
    "aa5 <- data[data$month==\"05\",] \n",
    "aa6 <- data[data$month==\"06\",] \n",
    "aa7 <- data[data$month==\"07\",] \n",
    "aa8 <- data[data$month==\"08\",] \n",
    "aa9 <- data[data$month==\"09\",] \n",
    "aa10 <- data[data$month==\"10\",] \n",
    "aa11 <- data[data$month==\"11\",] \n",
    "aa12 <- data[data$month==\"12\",] \n",
    "\n",
    "fd_season <- c(dim(aa)[1],dim(bb)[1],dim(cc)[1],dim(dd)[1])\n",
    "season <- c(\"DJF\",\"SON\",\"JJA\",\"MAM\")\n",
    "data_season <- data.frame(season,fd_season)\n",
    "data_season$data_per <- (data_season$fd_season*100)/dim(data)[1]\n",
    "\n",
    "fd_month <- c(dim(aa1)[1],dim(aa2)[1],dim(aa3)[1],dim(aa4)[1],dim(aa5)[1],dim(aa6)[1],dim(aa7)[1],dim(aa8)[1],\n",
    "              dim(aa9)[1],dim(aa10)[1],dim(aa11)[1],dim(aa12)[1])\n",
    "month <- seq(1,12,1)\n",
    "data_month <- data.frame(month,fd_month)\n",
    "data_month$data_per <- (data_month$fd_month*100)/dim(data)[1]\n",
    "\n",
    "data_month$SET <- data_set[i]\n",
    "data_season$SET <- data_set[i]\n",
    "\n",
    "return(list(data_month,data_season))\n",
    "}\n",
    "\n",
    "file_name1 <- \"H:\\\\NO.1 flash drought\\\\03data\\\\ERA5\\\\2.fd_result\\\\data_fd_total1.RData\"\n",
    "file_name2 <- \"H:\\\\NO.1 flash drought\\\\03data\\\\gleam_v3.5a\\\\6.GLEAM-0.5\\\\data_fd_total1.RData\"\n",
    "file_name3 <-\"H:\\\\NO.1 flash drought\\\\03data\\\\ERA5\\\\1.result\\\\data_fd_total1.RData\"\n",
    "\n",
    "data1 <- sea_mon(file_name1,1)\n",
    "data2 <- sea_mon(file_name2,2)\n",
    "data3 <- sea_mon(file_name3,3)\n",
    "\n",
    "data_month <- rbind(data1[[1]],data2[[1]],data3[[1]])\n",
    "data_season <- rbind(data1[[2]],data2[[2]],data3[[2]])\n",
    "\n",
    "data_month_avg <- (data1[[1]]$data_per+data2[[1]]$data_per+data3[[1]]$data_per)/3\n",
    "data_season_avg <- (data1[[2]]$data_per+data2[[2]]$data_per+data3[[2]]$data_per)/3\n",
    "\n",
    "data_season\n",
    "data_season_avg"
   ]
  },
  {
   "cell_type": "code",
   "execution_count": 6,
   "metadata": {},
   "outputs": [
    {
     "data": {
      "text/html": [
       "<style>\n",
       ".list-inline {list-style: none; margin:0; padding: 0}\n",
       ".list-inline>li {display: inline-block}\n",
       ".list-inline>li:not(:last-child)::after {content: \"\\00b7\"; padding: 0 .5ex}\n",
       "</style>\n",
       "<ol class=list-inline><li>26.2419011780325</li><li>26.125676289191</li><li>22.3353234192135</li><li>25.297099113563</li></ol>\n"
      ],
      "text/latex": [
       "\\begin{enumerate*}\n",
       "\\item 26.2419011780325\n",
       "\\item 26.125676289191\n",
       "\\item 22.3353234192135\n",
       "\\item 25.297099113563\n",
       "\\end{enumerate*}\n"
      ],
      "text/markdown": [
       "1. 26.2419011780325\n",
       "2. 26.125676289191\n",
       "3. 22.3353234192135\n",
       "4. 25.297099113563\n",
       "\n",
       "\n"
      ],
      "text/plain": [
       "[1] 26.24190 26.12568 22.33532 25.29710"
      ]
     },
     "metadata": {},
     "output_type": "display_data"
    }
   ],
   "source": [
    "data_season_avg"
   ]
  },
  {
   "cell_type": "markdown",
   "metadata": {},
   "source": [
    "10.计算骤旱的季节性与强度的关系"
   ]
  },
  {
   "cell_type": "code",
   "execution_count": 3,
   "metadata": {},
   "outputs": [],
   "source": [
    "sea_mon <- function(file_name,i){\n",
    "#month_occ(file_name)\n",
    "load(file_name)\n",
    "data <- data_fd_total\n",
    "\n",
    "I1 <- data[data$fd_intensity==\"1\",]\n",
    "I2 <- data[data$fd_intensity==\"2\",]\n",
    "I3 <- data[data$fd_intensity==\"3\",]\n",
    "I4 <- data[data$fd_intensity==\"4\",]\n",
    "\n",
    "season_fun <- function(data,j){\n",
    "#data <- I2\n",
    "aa <- data[data$month==\"12\"|data$month==\"01\"|data$month==\"02\",] #冬\n",
    "bb <- data[data$month==\"03\"|data$month==\"04\"|data$month==\"05\",] #春\n",
    "cc <- data[data$month==\"06\"|data$month==\"07\"|data$month==\"08\",] #夏\n",
    "dd <- data[data$month==\"09\"|data$month==\"10\"|data$month==\"11\",] #秋\n",
    "\n",
    "aa1 <- data[data$month==\"01\",] \n",
    "aa2 <- data[data$month==\"02\",] \n",
    "aa3 <- data[data$month==\"03\",] \n",
    "aa4 <- data[data$month==\"04\",] \n",
    "aa5 <- data[data$month==\"05\",] \n",
    "aa6 <- data[data$month==\"06\",] \n",
    "aa7 <- data[data$month==\"07\",] \n",
    "aa8 <- data[data$month==\"08\",] \n",
    "aa9 <- data[data$month==\"09\",] \n",
    "aa10 <- data[data$month==\"10\",] \n",
    "aa11 <- data[data$month==\"11\",] \n",
    "aa12 <- data[data$month==\"12\",] \n",
    "\n",
    "#强度\n",
    "fd_intensity <- c(dim(I1)[1],dim(I2)[1],dim(I3)[1],dim(I4)[1])\n",
    "intensity<- c(\"FD_1\",\"FD_2\",\n",
    "                    \"FD_3\",\"FD_4\")\n",
    "data_intensity<- data.frame(intensity,fd_intensity)\n",
    "data_intensity$data_per <- (data_intensity$fd_intensity*100)/dim(data_fd_total)[1]\n",
    "\n",
    "#季节\n",
    "fd_season <- c(dim(aa)[1],dim(bb)[1],dim(cc)[1],dim(dd)[1])\n",
    "season <- c(\"DJF\",\"MAM\",\"JJA\",\"SON\")\n",
    "data_season <- data.frame(season,fd_season)\n",
    "data_season$data_per <- (data_season$fd_season/dim(data)[1])*data_intensity$data_per[j]\n",
    "\n",
    "#月份\n",
    "fd_month <- c(dim(aa1)[1],dim(aa2)[1],dim(aa3)[1],dim(aa4)[1],dim(aa5)[1],dim(aa6)[1],dim(aa7)[1],dim(aa8)[1],\n",
    "              dim(aa9)[1],dim(aa10)[1],dim(aa11)[1],dim(aa12)[1])\n",
    "month <- seq(1,12,1)\n",
    "data_month <- data.frame(month,fd_month)\n",
    "data_month$data_per <- (data_month$fd_month*100)/dim(data)[1]\n",
    "\n",
    "data_month$SET <- data_set[i]\n",
    "data_season$SET <- data_set[i]\n",
    "data_season$degree <- intensity[j]\n",
    "\n",
    "return(data_season)\n",
    "}\n",
    "\n",
    "IS1 <- season_fun(I1,1)\n",
    "IS2 <- season_fun(I2,2)\n",
    "IS3 <- season_fun(I3,3)\n",
    "IS4 <- season_fun(I4,4)\n",
    "\n",
    "IS <- rbind(IS1,IS2,IS3,IS4)\n",
    "\n",
    "return(IS)\n",
    "}\n",
    "\n",
    "file_name1 <- \"H:\\\\NO.1 flash drought\\\\03data\\\\ERA5\\\\2.fd_result\\\\data_fd_total1.RData\"\n",
    "file_name2 <- \"H:\\\\NO.1 flash drought\\\\03data\\\\gleam_v3.5a\\\\6.GLEAM-0.5\\\\data_fd_total1.RData\"\n",
    "file_name3 <-\"H:\\\\NO.1 flash drought\\\\03data\\\\ERA5\\\\1.result\\\\data_fd_total1.RData\"\n",
    "data_set <- c(\"ERA5\",\"GLEAM\",\"ERA5-LAND\")\n",
    "#计算骤旱的强度占比（三套数据）\n",
    "data1 <- sea_mon(file_name1,1)\n",
    "data2 <- sea_mon(file_name2,2)\n",
    "data3 <- sea_mon(file_name3,3)\n",
    "\n",
    "data_avg <- (data1$data_per+data2$data_per+data3$data_per)/3  #三个数据的平均值\n",
    "data <- data.frame(season=data1$season,degree=data1$degree,percentile=data_avg)\n",
    "\n",
    "#data <- rbind(data1,data2,data3)  \n"
   ]
  },
  {
   "cell_type": "code",
   "execution_count": 4,
   "metadata": {},
   "outputs": [
    {
     "data": {
      "text/html": [
       "<table class=\"dataframe\">\n",
       "<caption>A data.frame: 16 × 3</caption>\n",
       "<thead>\n",
       "\t<tr><th scope=col>season</th><th scope=col>degree</th><th scope=col>percentile</th></tr>\n",
       "\t<tr><th scope=col>&lt;chr&gt;</th><th scope=col>&lt;chr&gt;</th><th scope=col>&lt;dbl&gt;</th></tr>\n",
       "</thead>\n",
       "<tbody>\n",
       "\t<tr><td>DJF</td><td>FD_1</td><td>11.996366</td></tr>\n",
       "\t<tr><td>MAM</td><td>FD_1</td><td>11.549321</td></tr>\n",
       "\t<tr><td>JJA</td><td>FD_1</td><td>10.169862</td></tr>\n",
       "\t<tr><td>SON</td><td>FD_1</td><td>11.341107</td></tr>\n",
       "\t<tr><td>DJF</td><td>FD_2</td><td> 7.785910</td></tr>\n",
       "\t<tr><td>MAM</td><td>FD_2</td><td> 7.425634</td></tr>\n",
       "\t<tr><td>JJA</td><td>FD_2</td><td> 6.365809</td></tr>\n",
       "\t<tr><td>SON</td><td>FD_2</td><td> 7.317075</td></tr>\n",
       "\t<tr><td>DJF</td><td>FD_3</td><td> 4.104797</td></tr>\n",
       "\t<tr><td>MAM</td><td>FD_3</td><td> 4.235114</td></tr>\n",
       "\t<tr><td>JJA</td><td>FD_3</td><td> 3.519860</td></tr>\n",
       "\t<tr><td>SON</td><td>FD_3</td><td> 4.148337</td></tr>\n",
       "\t<tr><td>DJF</td><td>FD_4</td><td> 2.354828</td></tr>\n",
       "\t<tr><td>MAM</td><td>FD_4</td><td> 2.915608</td></tr>\n",
       "\t<tr><td>JJA</td><td>FD_4</td><td> 2.279793</td></tr>\n",
       "\t<tr><td>SON</td><td>FD_4</td><td> 2.490581</td></tr>\n",
       "</tbody>\n",
       "</table>\n"
      ],
      "text/latex": [
       "A data.frame: 16 × 3\n",
       "\\begin{tabular}{lll}\n",
       " season & degree & percentile\\\\\n",
       " <chr> & <chr> & <dbl>\\\\\n",
       "\\hline\n",
       "\t DJF & FD\\_1 & 11.996366\\\\\n",
       "\t MAM & FD\\_1 & 11.549321\\\\\n",
       "\t JJA & FD\\_1 & 10.169862\\\\\n",
       "\t SON & FD\\_1 & 11.341107\\\\\n",
       "\t DJF & FD\\_2 &  7.785910\\\\\n",
       "\t MAM & FD\\_2 &  7.425634\\\\\n",
       "\t JJA & FD\\_2 &  6.365809\\\\\n",
       "\t SON & FD\\_2 &  7.317075\\\\\n",
       "\t DJF & FD\\_3 &  4.104797\\\\\n",
       "\t MAM & FD\\_3 &  4.235114\\\\\n",
       "\t JJA & FD\\_3 &  3.519860\\\\\n",
       "\t SON & FD\\_3 &  4.148337\\\\\n",
       "\t DJF & FD\\_4 &  2.354828\\\\\n",
       "\t MAM & FD\\_4 &  2.915608\\\\\n",
       "\t JJA & FD\\_4 &  2.279793\\\\\n",
       "\t SON & FD\\_4 &  2.490581\\\\\n",
       "\\end{tabular}\n"
      ],
      "text/markdown": [
       "\n",
       "A data.frame: 16 × 3\n",
       "\n",
       "| season &lt;chr&gt; | degree &lt;chr&gt; | percentile &lt;dbl&gt; |\n",
       "|---|---|---|\n",
       "| DJF | FD_1 | 11.996366 |\n",
       "| MAM | FD_1 | 11.549321 |\n",
       "| JJA | FD_1 | 10.169862 |\n",
       "| SON | FD_1 | 11.341107 |\n",
       "| DJF | FD_2 |  7.785910 |\n",
       "| MAM | FD_2 |  7.425634 |\n",
       "| JJA | FD_2 |  6.365809 |\n",
       "| SON | FD_2 |  7.317075 |\n",
       "| DJF | FD_3 |  4.104797 |\n",
       "| MAM | FD_3 |  4.235114 |\n",
       "| JJA | FD_3 |  3.519860 |\n",
       "| SON | FD_3 |  4.148337 |\n",
       "| DJF | FD_4 |  2.354828 |\n",
       "| MAM | FD_4 |  2.915608 |\n",
       "| JJA | FD_4 |  2.279793 |\n",
       "| SON | FD_4 |  2.490581 |\n",
       "\n"
      ],
      "text/plain": [
       "   season degree percentile\n",
       "1  DJF    FD_1   11.996366 \n",
       "2  MAM    FD_1   11.549321 \n",
       "3  JJA    FD_1   10.169862 \n",
       "4  SON    FD_1   11.341107 \n",
       "5  DJF    FD_2    7.785910 \n",
       "6  MAM    FD_2    7.425634 \n",
       "7  JJA    FD_2    6.365809 \n",
       "8  SON    FD_2    7.317075 \n",
       "9  DJF    FD_3    4.104797 \n",
       "10 MAM    FD_3    4.235114 \n",
       "11 JJA    FD_3    3.519860 \n",
       "12 SON    FD_3    4.148337 \n",
       "13 DJF    FD_4    2.354828 \n",
       "14 MAM    FD_4    2.915608 \n",
       "15 JJA    FD_4    2.279793 \n",
       "16 SON    FD_4    2.490581 "
      ]
     },
     "metadata": {},
     "output_type": "display_data"
    }
   ],
   "source": [
    "data"
   ]
  },
  {
   "cell_type": "code",
   "execution_count": 7,
   "metadata": {},
   "outputs": [],
   "source": [
    "fun=function(data){\n",
    " library(plyr) \n",
    "ce <- ddply(data,\"degree\",transform,label_y=cumsum(percentile)-0.5*percentile)\n",
    "ce$percentile <- round(ce$percentile,2)\n",
    "fontsize=13\n",
    "library(ggplot2)\n",
    "library(RColorBrewer)\n",
    "p=ggplot(ce,aes(x=degree,y=percentile,fill=season))+###aes(fill=area),\n",
    "  #geom_boxplot(aes(fill=lat),notch = F,varwidth = F,outlier.shape = NA)+\n",
    "  geom_bar(stat = \"identity\")+\n",
    "  guides(fill=guide_legend(),family=\"serif\")+\n",
    "  scale_fill_manual(values = c(brewer.pal(4,\"YlOrRd\")[c(1,2,3,4)]))+#\"Set3\"\n",
    "  labs(y=\"Proportion of flash drought (%)\",x=\"Intensity\")+\n",
    "  coord_cartesian(ylim=c(0, 50))+\n",
    "  theme_bw()+ \n",
    "  scale_y_continuous(expand = c(0,0))+\n",
    "  #geom_hline(aes(yintercept = 0),linetype = 'dashed',alpha = 0.5,lwd = 0.5,color = 'black')+\n",
    "  #ggtitle(dname)+ \n",
    "  geom_text(aes(y=label_y,label=percentile),colour=\"black\",#vjust=1.5,\n",
    "            size=5)+#position = position_dodge(.9),\n",
    "  theme(legend.position = c(0.9,0.85),\n",
    "        plot.title=element_text(hjust=0.5,size=fontsize),\n",
    "        axis.text = element_text(colour='black',size=fontsize,hjust=.5,family=\"serif\"),\n",
    "        axis.title = element_text(colour='black',size=fontsize,hjust=.5,family=\"serif\"),\n",
    "        #axis.title.x = element_blank(),\n",
    "        panel.grid.major=element_blank(),\n",
    "        panel.grid.minor=element_blank())\n",
    "return(p)\n",
    "}"
   ]
  },
  {
   "cell_type": "code",
   "execution_count": 8,
   "metadata": {},
   "outputs": [
    {
     "data": {
      "image/png": "[encoded data removed]",
      "text/plain": [
       "plot without title"
      ]
     },
     "metadata": {
      "image/png": {
       "height": 420,
       "width": 420
      }
     },
     "output_type": "display_data"
    }
   ],
   "source": [
    "p4=fun(data)\n",
    "p4"
   ]
  },
  {
   "cell_type": "code",
   "execution_count": null,
   "metadata": {},
   "outputs": [],
   "source": [
    "data <- data.frame(season=data1$season,degree=data1$degree,percentile=data1$data_per)\n",
    "p1=fun(data)\n",
    "data <- data.frame(season=data1$season,degree=data1$degree,percentile=data2$data_per)\n",
    "p2=fun(data)\n",
    "data <- data.frame(season=data1$season,degree=data1$degree,percentile=data3$data_per)\n",
    "p3=fun(data)"
   ]
  },
  {
   "cell_type": "code",
   "execution_count": 28,
   "metadata": {},
   "outputs": [
    {
     "data": {
      "image/png": "[encoded data removed]",
      "text/plain": [
       "plot without title"
      ]
     },
     "metadata": {
      "image/png": {
       "height": 420,
       "width": 420
      }
     },
     "output_type": "display_data"
    }
   ],
   "source": [
    "ggpubr::ggarrange(p1,p2,p3,p4,ncol = 2, nrow =2,common.legend = T,legend = \"bottom\") "
   ]
  },
  {
   "cell_type": "code",
   "execution_count": 9,
   "metadata": {},
   "outputs": [
    {
     "data": {
      "text/html": [
       "<strong>png:</strong> 2"
      ],
      "text/latex": [
       "\\textbf{png:} 2"
      ],
      "text/markdown": [
       "**png:** 2"
      ],
      "text/plain": [
       "png \n",
       "  2 "
      ]
     },
     "metadata": {},
     "output_type": "display_data"
    }
   ],
   "source": [
    "pic_name=paste0(\"H:\\\\NO.1 flash drought\\\\5.小论文-骤旱\\\\论文大修12.2\\\\picture\\\\7.bar_\")\n",
    "pdf(paste0(pic_name,\"sea_int.pdf\"),width = 8, height = 6)\n",
    "p4 \n",
    "dev.off()\n"
   ]
  },
  {
   "cell_type": "markdown",
   "metadata": {},
   "source": [
    "11.计算季节的时间序列"
   ]
  },
  {
   "cell_type": "code",
   "execution_count": 76,
   "metadata": {},
   "outputs": [
    {
     "data": {
      "image/png": "[encoded data removed]",
      "text/plain": [
       "plot without title"
      ]
     },
     "metadata": {
      "image/png": {
       "height": 420,
       "width": 420
      }
     },
     "output_type": "display_data"
    }
   ],
   "source": [
    "#file_name <- \"H:\\\\NO.1 flash drought\\\\03data\\\\gleam_v3.5a\\\\6.GLEAM-0.5\\\\\"\n",
    "lonlat_name=\"H:\\\\NO.1 flash drought\\\\03data\\\\ERA5\\\\1.result\\\\grid_lon_lat.RData\"\n",
    "file_name <- \"H:\\\\NO.1 flash drought\\\\03data\\\\gleam_v3.5a\\\\6.GLEAM-0.5\\\\\"\n",
    "#area_change=function(file_name,lonlat_name,i){\n",
    "  load(paste0(file_name,\"data_fd_total1.RData\"))\n",
    "  load(lonlat_name)\n",
    "  i=1\n",
    "  load(\"H:\\\\NO.1 flash drought\\\\03data\\\\ERA5\\\\1.result\\\\lon_lat_area.RData\")  #0.5格点的面积\n",
    "  \n",
    "  #data <- dat[-which(dat$occ_number==0),]\n",
    "  data1 <- merge(data_fd_total,lon_lat_area,by=c(\"lon\",\"lat\")) \n",
    "  #data1 <-data1[5000:6000,]\n",
    "  data <- data1 \n",
    "  aa <- data[data$month==\"12\"|data$month==\"01\"|data$month==\"02\",] #冬\n",
    "  bb <- data[data$month==\"03\"|data$month==\"04\"|data$month==\"05\",] #春\n",
    "  cc <- data[data$month==\"06\"|data$month==\"07\"|data$month==\"08\",] #夏\n",
    "  dd <- data[data$month==\"09\"|data$month==\"10\"|data$month==\"11\",] #秋\n",
    "  \n",
    " ee1 <- aggregate(aa$area,by=list(type=aa$occ_year),sum)\n",
    " ee2 <- aggregate(bb$area,by=list(type=bb$occ_year),sum)\n",
    " ee3 <- aggregate(cc$area,by=list(type=cc$occ_year),sum)\n",
    " ee4 <- aggregate(dd$area,by=list(type=dd$occ_year),sum)\n",
    "\n",
    " data2 <- data.frame(ee1,ee2[,2],ee3[,2],ee4[,2])\n",
    " names(data2) <- c(\"year\",\"DJF\",\"MAM\",\"JJA\",\"SON\")\n",
    " data2$total <- rowSums(data2[,2:5])\n",
    " data2$DJF1 <- (data2[,2]*100)/data2[,6]\n",
    " data2$MAM1 <- (data2[,3]*100)/data2[,6]\n",
    " data2$JJA1 <- (data2[,4]*100)/data2[,6]\n",
    " data2$SON1 <- (data2[,5]*100)/data2[,6]\n",
    "\n",
    "data3 <- data2[,c(1,2:5)]\n",
    "data4 <- reshape2::melt(data3,measure.vars=c(\"SON\",\"JJA\",\"MAM\",\"DJF\"),\n",
    "                        variable.name = \"season\",value.name = \"value\")\n",
    "\n",
    "fontsize=14\n",
    "library(ggplot2)\n",
    "ggplot(data4,aes(x=year,y=value,colour=season,linetype=season))+\n",
    "  #geom_point(pch=16,col=\"steelblue\")+\n",
    "  geom_line()+\n",
    " # geom_line(aes(x=year,y=pred[,\"fit\"]),lwd=1,col=\"steelblue\")+\n",
    "  # geom_line(aes(x=year,y=pred[,\"lwr\"]),lty=3)+\n",
    "  # geom_line(aes(x=year,y=pred[,\"upr\"]),lty=3)+\n",
    "  #geom_ribbon(aes(ymin=dat$msi,ymax=dat$msa),alpha=0.4,fill=blues9[3])+\n",
    "  ylab(\"Coverage in Domain(%)\")+\n",
    "  #xlim(1980,2018)+ #xiugai\n",
    "  #xlab(\"Year\")+\n",
    "  #guides(fill=F)+\n",
    "  #ggtitle( \"Spring\")+    #\n",
    "  #scale_fill_brewer(palette=\"Set3\")+\n",
    "  scale_x_continuous(breaks=seq(1981,2021,10),expand = c(0,0))+#这个可以去掉与Y轴间隙\n",
    "  #scale_y_continuous(breaks=seq(-25,40,5),expand = c(0,1))+\n",
    "  theme_bw()+\n",
    "  theme(#axis.title.x = element_blank(),\n",
    "    legend.position = c(0.85,0.85),\n",
    "    legend.title = element_blank(),\n",
    "    legend.text = element_text(face='bold',colour='black',size=fontsize,hjust=0),\n",
    "    legend.background = element_rect(fill = 'transparent'),#, colour = 'black'\n",
    "    axis.text = element_text(face='bold',colour='black',size=fontsize,hjust=.5,family=\"serif\"),\n",
    "    axis.title.y = element_text(face='bold',colour='black',size=fontsize,hjust=.5,family=\"serif\"),\n",
    "    axis.title.x = element_blank(),\n",
    "    plot.title=element_text(hjust=0.5),\n",
    "    panel.grid.major = element_blank(),\n",
    "    panel.grid.minor = element_blank()\n",
    "  )"
   ]
  },
  {
   "cell_type": "markdown",
   "metadata": {},
   "source": [
    "12.计算强度的时间序列"
   ]
  },
  {
   "cell_type": "code",
   "execution_count": 77,
   "metadata": {},
   "outputs": [
    {
     "data": {
      "image/png": "[encoded data removed]",
      "text/plain": [
       "plot without title"
      ]
     },
     "metadata": {
      "image/png": {
       "height": 420,
       "width": 420
      }
     },
     "output_type": "display_data"
    }
   ],
   "source": [
    "#file_name <- \"H:\\\\NO.1 flash drought\\\\03data\\\\gleam_v3.5a\\\\6.GLEAM-0.5\\\\\"\n",
    "lonlat_name=\"H:\\\\NO.1 flash drought\\\\03data\\\\ERA5\\\\1.result\\\\grid_lon_lat.RData\"\n",
    "file_name <- \"H:\\\\NO.1 flash drought\\\\03data\\\\gleam_v3.5a\\\\6.GLEAM-0.5\\\\\"\n",
    "#area_change=function(file_name,lonlat_name,i){\n",
    "  load(paste0(file_name,\"data_fd_total1.RData\"))\n",
    "  load(lonlat_name)\n",
    "  i=1\n",
    "  load(\"H:\\\\NO.1 flash drought\\\\03data\\\\ERA5\\\\1.result\\\\lon_lat_area.RData\")  #0.5格点的面积\n",
    "  \n",
    "  #data <- dat[-which(dat$occ_number==0),]\n",
    "  data1 <- merge(data_fd_total,lon_lat_area,by=c(\"lon\",\"lat\")) \n",
    "  #data1 <-data1[5000:6000,]\n",
    "  data <- data1 \n",
    "  I1 <- data[data$fd_intensity==\"1\",]\n",
    "  I2 <- data[data$fd_intensity==\"2\",]\n",
    "  I3 <- data[data$fd_intensity==\"3\",]\n",
    "  I4 <- data[data$fd_intensity==\"4\",]\n",
    "  \n",
    "  \n",
    " ee1 <- aggregate(I1$area,by=list(type=I1$occ_year),sum)\n",
    " ee2 <- aggregate(I2$area,by=list(type=I2$occ_year),sum)\n",
    " ee3 <- aggregate(I3$area,by=list(type=I3$occ_year),sum)\n",
    " ee4 <- aggregate(I4$area,by=list(type=I4$occ_year),sum)\n",
    "\n",
    " data2 <- data.frame(ee1,ee2[,2],ee3[,2],ee4[,2])\n",
    " names(data2) <- c(\"year\",\"DJF\",\"MAM\",\"JJA\",\"SON\")\n",
    " data2$total <- rowSums(data2[,2:5])\n",
    " data2$DJF1 <- (data2[,2]*100)/data2[,6]\n",
    " data2$MAM1 <- (data2[,3]*100)/data2[,6]\n",
    " data2$JJA1 <- (data2[,4]*100)/data2[,6]\n",
    " data2$SON1 <- (data2[,5]*100)/data2[,6]\n",
    "\n",
    "data3 <- data2[,c(1,2:5)]\n",
    "data4 <- reshape2::melt(data3,measure.vars=c(\"SON\",\"JJA\",\"MAM\",\"DJF\"),\n",
    "                        variable.name = \"season\",value.name = \"value\")\n",
    "\n",
    "fontsize=14\n",
    "library(ggplot2)\n",
    "ggplot(data4,aes(x=year,y=value,colour=season,linetype=season))+\n",
    "  #geom_point(pch=16,col=\"steelblue\")+\n",
    "  geom_line()+\n",
    " # geom_line(aes(x=year,y=pred[,\"fit\"]),lwd=1,col=\"steelblue\")+\n",
    "  # geom_line(aes(x=year,y=pred[,\"lwr\"]),lty=3)+\n",
    "  # geom_line(aes(x=year,y=pred[,\"upr\"]),lty=3)+\n",
    "  #geom_ribbon(aes(ymin=dat$msi,ymax=dat$msa),alpha=0.4,fill=blues9[3])+\n",
    "  ylab(\"Coverage in Domain(%)\")+\n",
    "  #xlim(1980,2018)+ #xiugai\n",
    "  #xlab(\"Year\")+\n",
    "  #guides(fill=F)+\n",
    "  #ggtitle( \"Spring\")+    #\n",
    "  #scale_fill_brewer(palette=\"Set3\")+\n",
    "  scale_x_continuous(breaks=seq(1981,2021,10),expand = c(0,0))+#这个可以去掉与Y轴间隙\n",
    "  #scale_y_continuous(breaks=seq(-25,40,5),expand = c(0,1))+\n",
    "  theme_bw()+\n",
    "  theme(#axis.title.x = element_blank(),\n",
    "    legend.position = c(0.85,0.85),\n",
    "    legend.title = element_blank(),\n",
    "    legend.text = element_text(face='bold',colour='black',size=fontsize,hjust=0),\n",
    "    legend.background = element_rect(fill = 'transparent'),#, colour = 'black'\n",
    "    axis.text = element_text(face='bold',colour='black',size=fontsize,hjust=.5,family=\"serif\"),\n",
    "    axis.title.y = element_text(face='bold',colour='black',size=fontsize,hjust=.5,family=\"serif\"),\n",
    "    axis.title.x = element_blank(),\n",
    "    plot.title=element_text(hjust=0.5),\n",
    "    panel.grid.major = element_blank(),\n",
    "    panel.grid.minor = element_blank()\n",
    "  )\n",
    "\n",
    "\n",
    "\n",
    "\n",
    "\n"
   ]
  }
 ],
 "metadata": {
  "kernelspec": {
   "display_name": "R",
   "language": "R",
   "name": "ir"
  },
  "language_info": {
   "codemirror_mode": "r",
   "file_extension": ".r",
   "mimetype": "text/x-r-source",
   "name": "R",
   "pygments_lexer": "r",
   "version": "4.1.2"
  },
  "orig_nbformat": 4
 },
 "nbformat": 4,
 "nbformat_minor": 2
}
